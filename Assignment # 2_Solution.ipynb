{
 "cells": [
  {
   "cell_type": "markdown",
   "metadata": {},
   "source": [
    "<center> <h2> Assignment # 2 </h2> </center>  \n",
    "<center> <h3> Perform the basic wrangling on the data <h3> </center> "
   ]
  },
  {
   "cell_type": "markdown",
   "metadata": {},
   "source": [
    "### Task 1: Importing Files and Libraries\n",
    "**i. Import Required libraries and Data File**"
   ]
  },
  {
   "cell_type": "code",
   "execution_count": 1,
   "metadata": {},
   "outputs": [],
   "source": [
    "#write code here\n",
    "import pandas as pd\n",
    "import numpy as np\n",
    "import matplotlib.pyplot as plt\n",
    "import seaborn as sns\n",
    "sns.set()\n",
    "%matplotlib inline"
   ]
  },
  {
   "cell_type": "markdown",
   "metadata": {},
   "source": [
    "**ii. Read Fifa.csv file**"
   ]
  },
  {
   "cell_type": "code",
   "execution_count": 2,
   "metadata": {},
   "outputs": [],
   "source": [
    "#write code here\n",
    "data = pd.read_csv('fifa.csv')"
   ]
  },
  {
   "cell_type": "markdown",
   "metadata": {},
   "source": [
    "**iii. Copy dataframe in df**"
   ]
  },
  {
   "cell_type": "code",
   "execution_count": 3,
   "metadata": {},
   "outputs": [],
   "source": [
    "#write code here\n",
    "dffifa = data.copy()"
   ]
  },
  {
   "cell_type": "markdown",
   "metadata": {},
   "source": [
    "### Task 2: Some Basic Operations on Data Frame </h3>"
   ]
  },
  {
   "cell_type": "markdown",
   "metadata": {},
   "source": [
    "**i. Display the first five rows of the dataframe**"
   ]
  },
  {
   "cell_type": "code",
   "execution_count": 4,
   "metadata": {},
   "outputs": [
    {
     "data": {
      "text/html": [
       "<div>\n",
       "<style scoped>\n",
       "    .dataframe tbody tr th:only-of-type {\n",
       "        vertical-align: middle;\n",
       "    }\n",
       "\n",
       "    .dataframe tbody tr th {\n",
       "        vertical-align: top;\n",
       "    }\n",
       "\n",
       "    .dataframe thead th {\n",
       "        text-align: right;\n",
       "    }\n",
       "</style>\n",
       "<table border=\"1\" class=\"dataframe\">\n",
       "  <thead>\n",
       "    <tr style=\"text-align: right;\">\n",
       "      <th></th>\n",
       "      <th>id</th>\n",
       "      <th>name</th>\n",
       "      <th>rating</th>\n",
       "      <th>position</th>\n",
       "      <th>height</th>\n",
       "      <th>foot</th>\n",
       "      <th>rare</th>\n",
       "      <th>pace</th>\n",
       "      <th>shooting</th>\n",
       "      <th>passing</th>\n",
       "      <th>dribbling</th>\n",
       "      <th>defending</th>\n",
       "      <th>heading</th>\n",
       "      <th>diving</th>\n",
       "      <th>handling</th>\n",
       "      <th>kicking</th>\n",
       "      <th>reflexes</th>\n",
       "      <th>speed</th>\n",
       "      <th>positioning</th>\n",
       "    </tr>\n",
       "  </thead>\n",
       "  <tbody>\n",
       "    <tr>\n",
       "      <th>0</th>\n",
       "      <td>1001</td>\n",
       "      <td>Gábor Király</td>\n",
       "      <td>69</td>\n",
       "      <td>GK</td>\n",
       "      <td>191</td>\n",
       "      <td>Right</td>\n",
       "      <td>0</td>\n",
       "      <td></td>\n",
       "      <td></td>\n",
       "      <td></td>\n",
       "      <td></td>\n",
       "      <td></td>\n",
       "      <td></td>\n",
       "      <td>70</td>\n",
       "      <td>66</td>\n",
       "      <td>63</td>\n",
       "      <td>74</td>\n",
       "      <td>35</td>\n",
       "      <td>66.0</td>\n",
       "    </tr>\n",
       "    <tr>\n",
       "      <th>1</th>\n",
       "      <td>100143</td>\n",
       "      <td>Frederik Boi</td>\n",
       "      <td>65</td>\n",
       "      <td>M</td>\n",
       "      <td>184</td>\n",
       "      <td>Right</td>\n",
       "      <td>0</td>\n",
       "      <td>61</td>\n",
       "      <td>65</td>\n",
       "      <td>63</td>\n",
       "      <td>59</td>\n",
       "      <td>62</td>\n",
       "      <td>62</td>\n",
       "      <td></td>\n",
       "      <td></td>\n",
       "      <td></td>\n",
       "      <td></td>\n",
       "      <td></td>\n",
       "      <td>NaN</td>\n",
       "    </tr>\n",
       "    <tr>\n",
       "      <th>2</th>\n",
       "      <td>100264</td>\n",
       "      <td>Tomasz Szewczuk</td>\n",
       "      <td>57</td>\n",
       "      <td>A</td>\n",
       "      <td>185</td>\n",
       "      <td>Right</td>\n",
       "      <td>0</td>\n",
       "      <td>65</td>\n",
       "      <td>54</td>\n",
       "      <td>43</td>\n",
       "      <td>53</td>\n",
       "      <td>55</td>\n",
       "      <td>74</td>\n",
       "      <td></td>\n",
       "      <td></td>\n",
       "      <td></td>\n",
       "      <td></td>\n",
       "      <td></td>\n",
       "      <td>NaN</td>\n",
       "    </tr>\n",
       "    <tr>\n",
       "      <th>3</th>\n",
       "      <td>100325</td>\n",
       "      <td>Steeve Joseph-Reinette</td>\n",
       "      <td>63</td>\n",
       "      <td>D</td>\n",
       "      <td>180</td>\n",
       "      <td>Left</td>\n",
       "      <td>0</td>\n",
       "      <td>68</td>\n",
       "      <td>38</td>\n",
       "      <td>51</td>\n",
       "      <td>46</td>\n",
       "      <td>64</td>\n",
       "      <td>71</td>\n",
       "      <td></td>\n",
       "      <td></td>\n",
       "      <td></td>\n",
       "      <td></td>\n",
       "      <td></td>\n",
       "      <td>NaN</td>\n",
       "    </tr>\n",
       "    <tr>\n",
       "      <th>4</th>\n",
       "      <td>100326</td>\n",
       "      <td>Kamel Chafni</td>\n",
       "      <td>72</td>\n",
       "      <td>M</td>\n",
       "      <td>181</td>\n",
       "      <td>Right</td>\n",
       "      <td>0</td>\n",
       "      <td>75</td>\n",
       "      <td>64</td>\n",
       "      <td>67</td>\n",
       "      <td>72</td>\n",
       "      <td>57</td>\n",
       "      <td>66</td>\n",
       "      <td></td>\n",
       "      <td></td>\n",
       "      <td></td>\n",
       "      <td></td>\n",
       "      <td></td>\n",
       "      <td>NaN</td>\n",
       "    </tr>\n",
       "  </tbody>\n",
       "</table>\n",
       "</div>"
      ],
      "text/plain": [
       "       id                     name   rating  position   height    foot   rare  \\\n",
       "0    1001             Gábor Király       69        GK      191   Right      0   \n",
       "1  100143             Frederik Boi       65         M      184   Right      0   \n",
       "2  100264          Tomasz Szewczuk       57         A      185   Right      0   \n",
       "3  100325   Steeve Joseph-Reinette       63         D      180    Left      0   \n",
       "4  100326             Kamel Chafni       72         M      181   Right      0   \n",
       "\n",
       "   pace  shooting  passing  dribbling  defending  heading  diving  handling  \\\n",
       "0                                                              70        66   \n",
       "1    61        65       63         59         62       62                     \n",
       "2    65        54       43         53         55       74                     \n",
       "3    68        38       51         46         64       71                     \n",
       "4    75        64       67         72         57       66                     \n",
       "\n",
       "   kicking  reflexes  speed   positioning  \n",
       "0       63        74     35          66.0  \n",
       "1                                     NaN  \n",
       "2                                     NaN  \n",
       "3                                     NaN  \n",
       "4                                     NaN  "
      ]
     },
     "execution_count": 4,
     "metadata": {},
     "output_type": "execute_result"
    }
   ],
   "source": [
    "#Write Your Code Here\n",
    "dffifa.head(5)"
   ]
  },
  {
   "cell_type": "markdown",
   "metadata": {},
   "source": [
    "**ii. Display columns names of the dataframe**"
   ]
  },
  {
   "cell_type": "code",
   "execution_count": 5,
   "metadata": {},
   "outputs": [
    {
     "data": {
      "text/plain": [
       "Index(['id', ' name', ' rating', ' position', ' height', ' foot', ' rare',\n",
       "       ' pace', ' shooting', ' passing', ' dribbling', ' defending',\n",
       "       ' heading', ' diving', ' handling', ' kicking', ' reflexes', ' speed',\n",
       "       ' positioning'],\n",
       "      dtype='object')"
      ]
     },
     "execution_count": 5,
     "metadata": {},
     "output_type": "execute_result"
    }
   ],
   "source": [
    "#Write Your Code Here\n",
    "dffifa.columns"
   ]
  },
  {
   "cell_type": "markdown",
   "metadata": {},
   "source": [
    "**iii. Remove extra space in column names**"
   ]
  },
  {
   "cell_type": "code",
   "execution_count": 6,
   "metadata": {},
   "outputs": [
    {
     "data": {
      "text/plain": [
       "Index(['id', 'name', 'rating', 'position', 'height', 'foot', 'rare', 'pace',\n",
       "       'shooting', 'passing', 'dribbling', 'defending', 'heading', 'diving',\n",
       "       'handling', 'kicking', 'reflexes', 'speed', 'positioning'],\n",
       "      dtype='object')"
      ]
     },
     "execution_count": 6,
     "metadata": {},
     "output_type": "execute_result"
    }
   ],
   "source": [
    "#Write Your Code Here\n",
    "dffifa.rename(columns=lambda x: x.strip(), inplace=True)\n",
    "dffifa.columns"
   ]
  },
  {
   "cell_type": "markdown",
   "metadata": {},
   "source": [
    "**iv. Check data type of columns**"
   ]
  },
  {
   "cell_type": "code",
   "execution_count": 7,
   "metadata": {},
   "outputs": [
    {
     "data": {
      "text/plain": [
       "id               int64\n",
       "name            object\n",
       "rating           int64\n",
       "position        object\n",
       "height           int64\n",
       "foot            object\n",
       "rare             int64\n",
       "pace            object\n",
       "shooting        object\n",
       "passing         object\n",
       "dribbling       object\n",
       "defending       object\n",
       "heading         object\n",
       "diving          object\n",
       "handling        object\n",
       "kicking         object\n",
       "reflexes        object\n",
       "speed           object\n",
       "positioning    float64\n",
       "dtype: object"
      ]
     },
     "execution_count": 7,
     "metadata": {},
     "output_type": "execute_result"
    }
   ],
   "source": [
    "#Write Your Code Here\n",
    "dffifa.dtypes"
   ]
  },
  {
   "cell_type": "markdown",
   "metadata": {},
   "source": [
    "**v. Get the Last five rows of dataframe**"
   ]
  },
  {
   "cell_type": "code",
   "execution_count": 8,
   "metadata": {},
   "outputs": [
    {
     "data": {
      "text/html": [
       "<div>\n",
       "<style scoped>\n",
       "    .dataframe tbody tr th:only-of-type {\n",
       "        vertical-align: middle;\n",
       "    }\n",
       "\n",
       "    .dataframe tbody tr th {\n",
       "        vertical-align: top;\n",
       "    }\n",
       "\n",
       "    .dataframe thead th {\n",
       "        text-align: right;\n",
       "    }\n",
       "</style>\n",
       "<table border=\"1\" class=\"dataframe\">\n",
       "  <thead>\n",
       "    <tr style=\"text-align: right;\">\n",
       "      <th></th>\n",
       "      <th>id</th>\n",
       "      <th>name</th>\n",
       "      <th>rating</th>\n",
       "      <th>position</th>\n",
       "      <th>height</th>\n",
       "      <th>foot</th>\n",
       "      <th>rare</th>\n",
       "      <th>pace</th>\n",
       "      <th>shooting</th>\n",
       "      <th>passing</th>\n",
       "      <th>dribbling</th>\n",
       "      <th>defending</th>\n",
       "      <th>heading</th>\n",
       "      <th>diving</th>\n",
       "      <th>handling</th>\n",
       "      <th>kicking</th>\n",
       "      <th>reflexes</th>\n",
       "      <th>speed</th>\n",
       "      <th>positioning</th>\n",
       "    </tr>\n",
       "  </thead>\n",
       "  <tbody>\n",
       "    <tr>\n",
       "      <th>8842</th>\n",
       "      <td>9801</td>\n",
       "      <td>Danijel Ljuboja</td>\n",
       "      <td>73</td>\n",
       "      <td>A</td>\n",
       "      <td>189</td>\n",
       "      <td>Left</td>\n",
       "      <td>1</td>\n",
       "      <td>62</td>\n",
       "      <td>73</td>\n",
       "      <td>64</td>\n",
       "      <td>74</td>\n",
       "      <td>56</td>\n",
       "      <td>68</td>\n",
       "      <td></td>\n",
       "      <td></td>\n",
       "      <td></td>\n",
       "      <td></td>\n",
       "      <td></td>\n",
       "      <td>NaN</td>\n",
       "    </tr>\n",
       "    <tr>\n",
       "      <th>8843</th>\n",
       "      <td>9805</td>\n",
       "      <td>Craig Bellamy</td>\n",
       "      <td>79</td>\n",
       "      <td>A</td>\n",
       "      <td>175</td>\n",
       "      <td>Right</td>\n",
       "      <td>0</td>\n",
       "      <td>80</td>\n",
       "      <td>78</td>\n",
       "      <td>67</td>\n",
       "      <td>81</td>\n",
       "      <td>62</td>\n",
       "      <td>71</td>\n",
       "      <td></td>\n",
       "      <td></td>\n",
       "      <td></td>\n",
       "      <td></td>\n",
       "      <td></td>\n",
       "      <td>NaN</td>\n",
       "    </tr>\n",
       "    <tr>\n",
       "      <th>8844</th>\n",
       "      <td>9807</td>\n",
       "      <td>Michel Breuer</td>\n",
       "      <td>68</td>\n",
       "      <td>D</td>\n",
       "      <td>183</td>\n",
       "      <td>Right</td>\n",
       "      <td>0</td>\n",
       "      <td>61</td>\n",
       "      <td>40</td>\n",
       "      <td>56</td>\n",
       "      <td>51</td>\n",
       "      <td>70</td>\n",
       "      <td>74</td>\n",
       "      <td></td>\n",
       "      <td></td>\n",
       "      <td></td>\n",
       "      <td></td>\n",
       "      <td></td>\n",
       "      <td>NaN</td>\n",
       "    </tr>\n",
       "    <tr>\n",
       "      <th>8845</th>\n",
       "      <td>9815</td>\n",
       "      <td>Gill Swerts</td>\n",
       "      <td>65</td>\n",
       "      <td>D</td>\n",
       "      <td>179</td>\n",
       "      <td>Right</td>\n",
       "      <td>0</td>\n",
       "      <td>65</td>\n",
       "      <td>48</td>\n",
       "      <td>63</td>\n",
       "      <td>65</td>\n",
       "      <td>67</td>\n",
       "      <td>69</td>\n",
       "      <td></td>\n",
       "      <td></td>\n",
       "      <td></td>\n",
       "      <td></td>\n",
       "      <td></td>\n",
       "      <td>NaN</td>\n",
       "    </tr>\n",
       "    <tr>\n",
       "      <th>8846</th>\n",
       "      <td>9913</td>\n",
       "      <td>Mehdi Nafti</td>\n",
       "      <td>69</td>\n",
       "      <td>M</td>\n",
       "      <td>179</td>\n",
       "      <td>Right</td>\n",
       "      <td>0</td>\n",
       "      <td>55</td>\n",
       "      <td>56</td>\n",
       "      <td>64</td>\n",
       "      <td>65</td>\n",
       "      <td>69</td>\n",
       "      <td>60</td>\n",
       "      <td></td>\n",
       "      <td></td>\n",
       "      <td></td>\n",
       "      <td></td>\n",
       "      <td></td>\n",
       "      <td>NaN</td>\n",
       "    </tr>\n",
       "  </tbody>\n",
       "</table>\n",
       "</div>"
      ],
      "text/plain": [
       "        id              name  rating position  height    foot  rare pace  \\\n",
       "8842  9801   Danijel Ljuboja      73        A     189    Left     1   62   \n",
       "8843  9805     Craig Bellamy      79        A     175   Right     0   80   \n",
       "8844  9807     Michel Breuer      68        D     183   Right     0   61   \n",
       "8845  9815       Gill Swerts      65        D     179   Right     0   65   \n",
       "8846  9913       Mehdi Nafti      69        M     179   Right     0   55   \n",
       "\n",
       "     shooting passing dribbling defending heading diving handling kicking  \\\n",
       "8842       73      64        74        56      68                           \n",
       "8843       78      67        81        62      71                           \n",
       "8844       40      56        51        70      74                           \n",
       "8845       48      63        65        67      69                           \n",
       "8846       56      64        65        69      60                           \n",
       "\n",
       "     reflexes speed  positioning  \n",
       "8842                         NaN  \n",
       "8843                         NaN  \n",
       "8844                         NaN  \n",
       "8845                         NaN  \n",
       "8846                         NaN  "
      ]
     },
     "execution_count": 8,
     "metadata": {},
     "output_type": "execute_result"
    }
   ],
   "source": [
    "#Write Your Code Here\n",
    "dffifa.tail()"
   ]
  },
  {
   "cell_type": "markdown",
   "metadata": {},
   "source": [
    "### Question: What do you understand by having a look at the top five and last 5 rows of data? "
   ]
  },
  {
   "cell_type": "markdown",
   "metadata": {},
   "source": [
    "*Hint: Some values are not filled for certain types of positions.* "
   ]
  },
  {
   "cell_type": "markdown",
   "metadata": {},
   "source": [
    "### Answer: "
   ]
  },
  {
   "cell_type": "markdown",
   "metadata": {},
   "source": [
    "There is no data for the position 'GK' in the columns:' pace', ' shooting', ' passing', ' dribbling', ' defending', 'heading'; and no data for the other positions -'M', 'A', 'D' in the columns:  diving, handling, kicking, reflexes and speee."
   ]
  },
  {
   "cell_type": "markdown",
   "metadata": {},
   "source": [
    "**vi. Get the statistical summary for the numerical columns**"
   ]
  },
  {
   "cell_type": "code",
   "execution_count": 9,
   "metadata": {},
   "outputs": [
    {
     "data": {
      "text/html": [
       "<div>\n",
       "<style scoped>\n",
       "    .dataframe tbody tr th:only-of-type {\n",
       "        vertical-align: middle;\n",
       "    }\n",
       "\n",
       "    .dataframe tbody tr th {\n",
       "        vertical-align: top;\n",
       "    }\n",
       "\n",
       "    .dataframe thead th {\n",
       "        text-align: right;\n",
       "    }\n",
       "</style>\n",
       "<table border=\"1\" class=\"dataframe\">\n",
       "  <thead>\n",
       "    <tr style=\"text-align: right;\">\n",
       "      <th></th>\n",
       "      <th>id</th>\n",
       "      <th>rating</th>\n",
       "      <th>height</th>\n",
       "      <th>rare</th>\n",
       "      <th>positioning</th>\n",
       "    </tr>\n",
       "  </thead>\n",
       "  <tbody>\n",
       "    <tr>\n",
       "      <th>count</th>\n",
       "      <td>8847.000000</td>\n",
       "      <td>8847.000000</td>\n",
       "      <td>8847.000000</td>\n",
       "      <td>8847.000000</td>\n",
       "      <td>930.000000</td>\n",
       "    </tr>\n",
       "    <tr>\n",
       "      <th>mean</th>\n",
       "      <td>152337.538035</td>\n",
       "      <td>66.680457</td>\n",
       "      <td>181.750424</td>\n",
       "      <td>0.353114</td>\n",
       "      <td>64.955914</td>\n",
       "    </tr>\n",
       "    <tr>\n",
       "      <th>std</th>\n",
       "      <td>54506.606056</td>\n",
       "      <td>7.146679</td>\n",
       "      <td>6.454356</td>\n",
       "      <td>0.477965</td>\n",
       "      <td>8.854231</td>\n",
       "    </tr>\n",
       "    <tr>\n",
       "      <th>min</th>\n",
       "      <td>2.000000</td>\n",
       "      <td>40.000000</td>\n",
       "      <td>158.000000</td>\n",
       "      <td>0.000000</td>\n",
       "      <td>37.000000</td>\n",
       "    </tr>\n",
       "    <tr>\n",
       "      <th>25%</th>\n",
       "      <td>140001.500000</td>\n",
       "      <td>62.000000</td>\n",
       "      <td>178.000000</td>\n",
       "      <td>0.000000</td>\n",
       "      <td>59.000000</td>\n",
       "    </tr>\n",
       "    <tr>\n",
       "      <th>50%</th>\n",
       "      <td>171578.000000</td>\n",
       "      <td>66.000000</td>\n",
       "      <td>182.000000</td>\n",
       "      <td>0.000000</td>\n",
       "      <td>65.000000</td>\n",
       "    </tr>\n",
       "    <tr>\n",
       "      <th>75%</th>\n",
       "      <td>189185.000000</td>\n",
       "      <td>72.000000</td>\n",
       "      <td>186.000000</td>\n",
       "      <td>1.000000</td>\n",
       "      <td>71.000000</td>\n",
       "    </tr>\n",
       "    <tr>\n",
       "      <th>max</th>\n",
       "      <td>205583.000000</td>\n",
       "      <td>94.000000</td>\n",
       "      <td>208.000000</td>\n",
       "      <td>1.000000</td>\n",
       "      <td>91.000000</td>\n",
       "    </tr>\n",
       "  </tbody>\n",
       "</table>\n",
       "</div>"
      ],
      "text/plain": [
       "                  id       rating       height         rare  positioning\n",
       "count    8847.000000  8847.000000  8847.000000  8847.000000   930.000000\n",
       "mean   152337.538035    66.680457   181.750424     0.353114    64.955914\n",
       "std     54506.606056     7.146679     6.454356     0.477965     8.854231\n",
       "min         2.000000    40.000000   158.000000     0.000000    37.000000\n",
       "25%    140001.500000    62.000000   178.000000     0.000000    59.000000\n",
       "50%    171578.000000    66.000000   182.000000     0.000000    65.000000\n",
       "75%    189185.000000    72.000000   186.000000     1.000000    71.000000\n",
       "max    205583.000000    94.000000   208.000000     1.000000    91.000000"
      ]
     },
     "execution_count": 9,
     "metadata": {},
     "output_type": "execute_result"
    }
   ],
   "source": [
    "#Write Your Code Here\n",
    "dffifa.describe()"
   ]
  },
  {
   "cell_type": "markdown",
   "metadata": {},
   "source": [
    "**vii. Show the statistical summary of object type columns in dataframe**"
   ]
  },
  {
   "cell_type": "code",
   "execution_count": 10,
   "metadata": {},
   "outputs": [
    {
     "data": {
      "text/html": [
       "<div>\n",
       "<style scoped>\n",
       "    .dataframe tbody tr th:only-of-type {\n",
       "        vertical-align: middle;\n",
       "    }\n",
       "\n",
       "    .dataframe tbody tr th {\n",
       "        vertical-align: top;\n",
       "    }\n",
       "\n",
       "    .dataframe thead th {\n",
       "        text-align: right;\n",
       "    }\n",
       "</style>\n",
       "<table border=\"1\" class=\"dataframe\">\n",
       "  <thead>\n",
       "    <tr style=\"text-align: right;\">\n",
       "      <th></th>\n",
       "      <th>name</th>\n",
       "      <th>position</th>\n",
       "      <th>foot</th>\n",
       "      <th>pace</th>\n",
       "      <th>shooting</th>\n",
       "      <th>passing</th>\n",
       "      <th>dribbling</th>\n",
       "      <th>defending</th>\n",
       "      <th>heading</th>\n",
       "      <th>diving</th>\n",
       "      <th>handling</th>\n",
       "      <th>kicking</th>\n",
       "      <th>reflexes</th>\n",
       "      <th>speed</th>\n",
       "    </tr>\n",
       "  </thead>\n",
       "  <tbody>\n",
       "    <tr>\n",
       "      <th>count</th>\n",
       "      <td>8847</td>\n",
       "      <td>8847</td>\n",
       "      <td>8847</td>\n",
       "      <td>8847</td>\n",
       "      <td>8847</td>\n",
       "      <td>8847</td>\n",
       "      <td>8847</td>\n",
       "      <td>8847</td>\n",
       "      <td>8847</td>\n",
       "      <td>8847</td>\n",
       "      <td>8847</td>\n",
       "      <td>8847</td>\n",
       "      <td>8847</td>\n",
       "      <td>8847</td>\n",
       "    </tr>\n",
       "    <tr>\n",
       "      <th>unique</th>\n",
       "      <td>8678</td>\n",
       "      <td>4</td>\n",
       "      <td>2</td>\n",
       "      <td>73</td>\n",
       "      <td>80</td>\n",
       "      <td>76</td>\n",
       "      <td>76</td>\n",
       "      <td>64</td>\n",
       "      <td>67</td>\n",
       "      <td>49</td>\n",
       "      <td>45</td>\n",
       "      <td>53</td>\n",
       "      <td>53</td>\n",
       "      <td>54</td>\n",
       "    </tr>\n",
       "    <tr>\n",
       "      <th>top</th>\n",
       "      <td>Henrique</td>\n",
       "      <td>M</td>\n",
       "      <td>Right</td>\n",
       "      <td></td>\n",
       "      <td></td>\n",
       "      <td></td>\n",
       "      <td></td>\n",
       "      <td></td>\n",
       "      <td></td>\n",
       "      <td></td>\n",
       "      <td></td>\n",
       "      <td></td>\n",
       "      <td></td>\n",
       "      <td></td>\n",
       "    </tr>\n",
       "    <tr>\n",
       "      <th>freq</th>\n",
       "      <td>5</td>\n",
       "      <td>3041</td>\n",
       "      <td>6762</td>\n",
       "      <td>930</td>\n",
       "      <td>930</td>\n",
       "      <td>930</td>\n",
       "      <td>930</td>\n",
       "      <td>930</td>\n",
       "      <td>930</td>\n",
       "      <td>7917</td>\n",
       "      <td>7917</td>\n",
       "      <td>7917</td>\n",
       "      <td>7917</td>\n",
       "      <td>7917</td>\n",
       "    </tr>\n",
       "  </tbody>\n",
       "</table>\n",
       "</div>"
      ],
      "text/plain": [
       "             name position    foot  pace shooting passing dribbling defending  \\\n",
       "count        8847     8847    8847  8847     8847    8847      8847      8847   \n",
       "unique       8678        4       2    73       80      76        76        64   \n",
       "top      Henrique        M   Right                                              \n",
       "freq            5     3041    6762   930      930     930       930       930   \n",
       "\n",
       "       heading diving handling kicking reflexes speed  \n",
       "count     8847   8847     8847    8847     8847  8847  \n",
       "unique      67     49       45      53       53    54  \n",
       "top                                                    \n",
       "freq       930   7917     7917    7917     7917  7917  "
      ]
     },
     "execution_count": 10,
     "metadata": {},
     "output_type": "execute_result"
    }
   ],
   "source": [
    "#Write Your Code Here\n",
    "dffifa.describe(include='O')"
   ]
  },
  {
   "cell_type": "markdown",
   "metadata": {},
   "source": [
    "**viii. Show the statistical summary of all the columns in dataframe**"
   ]
  },
  {
   "cell_type": "code",
   "execution_count": 11,
   "metadata": {
    "scrolled": true
   },
   "outputs": [
    {
     "data": {
      "text/html": [
       "<div>\n",
       "<style scoped>\n",
       "    .dataframe tbody tr th:only-of-type {\n",
       "        vertical-align: middle;\n",
       "    }\n",
       "\n",
       "    .dataframe tbody tr th {\n",
       "        vertical-align: top;\n",
       "    }\n",
       "\n",
       "    .dataframe thead th {\n",
       "        text-align: right;\n",
       "    }\n",
       "</style>\n",
       "<table border=\"1\" class=\"dataframe\">\n",
       "  <thead>\n",
       "    <tr style=\"text-align: right;\">\n",
       "      <th></th>\n",
       "      <th>id</th>\n",
       "      <th>name</th>\n",
       "      <th>rating</th>\n",
       "      <th>position</th>\n",
       "      <th>height</th>\n",
       "      <th>foot</th>\n",
       "      <th>rare</th>\n",
       "      <th>pace</th>\n",
       "      <th>shooting</th>\n",
       "      <th>passing</th>\n",
       "      <th>dribbling</th>\n",
       "      <th>defending</th>\n",
       "      <th>heading</th>\n",
       "      <th>diving</th>\n",
       "      <th>handling</th>\n",
       "      <th>kicking</th>\n",
       "      <th>reflexes</th>\n",
       "      <th>speed</th>\n",
       "      <th>positioning</th>\n",
       "    </tr>\n",
       "  </thead>\n",
       "  <tbody>\n",
       "    <tr>\n",
       "      <th>count</th>\n",
       "      <td>8847.000000</td>\n",
       "      <td>8847</td>\n",
       "      <td>8847.000000</td>\n",
       "      <td>8847</td>\n",
       "      <td>8847.000000</td>\n",
       "      <td>8847</td>\n",
       "      <td>8847.000000</td>\n",
       "      <td>8847</td>\n",
       "      <td>8847</td>\n",
       "      <td>8847</td>\n",
       "      <td>8847</td>\n",
       "      <td>8847</td>\n",
       "      <td>8847</td>\n",
       "      <td>8847</td>\n",
       "      <td>8847</td>\n",
       "      <td>8847</td>\n",
       "      <td>8847</td>\n",
       "      <td>8847</td>\n",
       "      <td>930.000000</td>\n",
       "    </tr>\n",
       "    <tr>\n",
       "      <th>unique</th>\n",
       "      <td>NaN</td>\n",
       "      <td>8678</td>\n",
       "      <td>NaN</td>\n",
       "      <td>4</td>\n",
       "      <td>NaN</td>\n",
       "      <td>2</td>\n",
       "      <td>NaN</td>\n",
       "      <td>73</td>\n",
       "      <td>80</td>\n",
       "      <td>76</td>\n",
       "      <td>76</td>\n",
       "      <td>64</td>\n",
       "      <td>67</td>\n",
       "      <td>49</td>\n",
       "      <td>45</td>\n",
       "      <td>53</td>\n",
       "      <td>53</td>\n",
       "      <td>54</td>\n",
       "      <td>NaN</td>\n",
       "    </tr>\n",
       "    <tr>\n",
       "      <th>top</th>\n",
       "      <td>NaN</td>\n",
       "      <td>Henrique</td>\n",
       "      <td>NaN</td>\n",
       "      <td>M</td>\n",
       "      <td>NaN</td>\n",
       "      <td>Right</td>\n",
       "      <td>NaN</td>\n",
       "      <td></td>\n",
       "      <td></td>\n",
       "      <td></td>\n",
       "      <td></td>\n",
       "      <td></td>\n",
       "      <td></td>\n",
       "      <td></td>\n",
       "      <td></td>\n",
       "      <td></td>\n",
       "      <td></td>\n",
       "      <td></td>\n",
       "      <td>NaN</td>\n",
       "    </tr>\n",
       "    <tr>\n",
       "      <th>freq</th>\n",
       "      <td>NaN</td>\n",
       "      <td>5</td>\n",
       "      <td>NaN</td>\n",
       "      <td>3041</td>\n",
       "      <td>NaN</td>\n",
       "      <td>6762</td>\n",
       "      <td>NaN</td>\n",
       "      <td>930</td>\n",
       "      <td>930</td>\n",
       "      <td>930</td>\n",
       "      <td>930</td>\n",
       "      <td>930</td>\n",
       "      <td>930</td>\n",
       "      <td>7917</td>\n",
       "      <td>7917</td>\n",
       "      <td>7917</td>\n",
       "      <td>7917</td>\n",
       "      <td>7917</td>\n",
       "      <td>NaN</td>\n",
       "    </tr>\n",
       "    <tr>\n",
       "      <th>mean</th>\n",
       "      <td>152337.538035</td>\n",
       "      <td>NaN</td>\n",
       "      <td>66.680457</td>\n",
       "      <td>NaN</td>\n",
       "      <td>181.750424</td>\n",
       "      <td>NaN</td>\n",
       "      <td>0.353114</td>\n",
       "      <td>NaN</td>\n",
       "      <td>NaN</td>\n",
       "      <td>NaN</td>\n",
       "      <td>NaN</td>\n",
       "      <td>NaN</td>\n",
       "      <td>NaN</td>\n",
       "      <td>NaN</td>\n",
       "      <td>NaN</td>\n",
       "      <td>NaN</td>\n",
       "      <td>NaN</td>\n",
       "      <td>NaN</td>\n",
       "      <td>64.955914</td>\n",
       "    </tr>\n",
       "    <tr>\n",
       "      <th>std</th>\n",
       "      <td>54506.606056</td>\n",
       "      <td>NaN</td>\n",
       "      <td>7.146679</td>\n",
       "      <td>NaN</td>\n",
       "      <td>6.454356</td>\n",
       "      <td>NaN</td>\n",
       "      <td>0.477965</td>\n",
       "      <td>NaN</td>\n",
       "      <td>NaN</td>\n",
       "      <td>NaN</td>\n",
       "      <td>NaN</td>\n",
       "      <td>NaN</td>\n",
       "      <td>NaN</td>\n",
       "      <td>NaN</td>\n",
       "      <td>NaN</td>\n",
       "      <td>NaN</td>\n",
       "      <td>NaN</td>\n",
       "      <td>NaN</td>\n",
       "      <td>8.854231</td>\n",
       "    </tr>\n",
       "    <tr>\n",
       "      <th>min</th>\n",
       "      <td>2.000000</td>\n",
       "      <td>NaN</td>\n",
       "      <td>40.000000</td>\n",
       "      <td>NaN</td>\n",
       "      <td>158.000000</td>\n",
       "      <td>NaN</td>\n",
       "      <td>0.000000</td>\n",
       "      <td>NaN</td>\n",
       "      <td>NaN</td>\n",
       "      <td>NaN</td>\n",
       "      <td>NaN</td>\n",
       "      <td>NaN</td>\n",
       "      <td>NaN</td>\n",
       "      <td>NaN</td>\n",
       "      <td>NaN</td>\n",
       "      <td>NaN</td>\n",
       "      <td>NaN</td>\n",
       "      <td>NaN</td>\n",
       "      <td>37.000000</td>\n",
       "    </tr>\n",
       "    <tr>\n",
       "      <th>25%</th>\n",
       "      <td>140001.500000</td>\n",
       "      <td>NaN</td>\n",
       "      <td>62.000000</td>\n",
       "      <td>NaN</td>\n",
       "      <td>178.000000</td>\n",
       "      <td>NaN</td>\n",
       "      <td>0.000000</td>\n",
       "      <td>NaN</td>\n",
       "      <td>NaN</td>\n",
       "      <td>NaN</td>\n",
       "      <td>NaN</td>\n",
       "      <td>NaN</td>\n",
       "      <td>NaN</td>\n",
       "      <td>NaN</td>\n",
       "      <td>NaN</td>\n",
       "      <td>NaN</td>\n",
       "      <td>NaN</td>\n",
       "      <td>NaN</td>\n",
       "      <td>59.000000</td>\n",
       "    </tr>\n",
       "    <tr>\n",
       "      <th>50%</th>\n",
       "      <td>171578.000000</td>\n",
       "      <td>NaN</td>\n",
       "      <td>66.000000</td>\n",
       "      <td>NaN</td>\n",
       "      <td>182.000000</td>\n",
       "      <td>NaN</td>\n",
       "      <td>0.000000</td>\n",
       "      <td>NaN</td>\n",
       "      <td>NaN</td>\n",
       "      <td>NaN</td>\n",
       "      <td>NaN</td>\n",
       "      <td>NaN</td>\n",
       "      <td>NaN</td>\n",
       "      <td>NaN</td>\n",
       "      <td>NaN</td>\n",
       "      <td>NaN</td>\n",
       "      <td>NaN</td>\n",
       "      <td>NaN</td>\n",
       "      <td>65.000000</td>\n",
       "    </tr>\n",
       "    <tr>\n",
       "      <th>75%</th>\n",
       "      <td>189185.000000</td>\n",
       "      <td>NaN</td>\n",
       "      <td>72.000000</td>\n",
       "      <td>NaN</td>\n",
       "      <td>186.000000</td>\n",
       "      <td>NaN</td>\n",
       "      <td>1.000000</td>\n",
       "      <td>NaN</td>\n",
       "      <td>NaN</td>\n",
       "      <td>NaN</td>\n",
       "      <td>NaN</td>\n",
       "      <td>NaN</td>\n",
       "      <td>NaN</td>\n",
       "      <td>NaN</td>\n",
       "      <td>NaN</td>\n",
       "      <td>NaN</td>\n",
       "      <td>NaN</td>\n",
       "      <td>NaN</td>\n",
       "      <td>71.000000</td>\n",
       "    </tr>\n",
       "    <tr>\n",
       "      <th>max</th>\n",
       "      <td>205583.000000</td>\n",
       "      <td>NaN</td>\n",
       "      <td>94.000000</td>\n",
       "      <td>NaN</td>\n",
       "      <td>208.000000</td>\n",
       "      <td>NaN</td>\n",
       "      <td>1.000000</td>\n",
       "      <td>NaN</td>\n",
       "      <td>NaN</td>\n",
       "      <td>NaN</td>\n",
       "      <td>NaN</td>\n",
       "      <td>NaN</td>\n",
       "      <td>NaN</td>\n",
       "      <td>NaN</td>\n",
       "      <td>NaN</td>\n",
       "      <td>NaN</td>\n",
       "      <td>NaN</td>\n",
       "      <td>NaN</td>\n",
       "      <td>91.000000</td>\n",
       "    </tr>\n",
       "  </tbody>\n",
       "</table>\n",
       "</div>"
      ],
      "text/plain": [
       "                   id       name       rating position       height    foot  \\\n",
       "count     8847.000000       8847  8847.000000     8847  8847.000000    8847   \n",
       "unique            NaN       8678          NaN        4          NaN       2   \n",
       "top               NaN   Henrique          NaN        M          NaN   Right   \n",
       "freq              NaN          5          NaN     3041          NaN    6762   \n",
       "mean    152337.538035        NaN    66.680457      NaN   181.750424     NaN   \n",
       "std      54506.606056        NaN     7.146679      NaN     6.454356     NaN   \n",
       "min          2.000000        NaN    40.000000      NaN   158.000000     NaN   \n",
       "25%     140001.500000        NaN    62.000000      NaN   178.000000     NaN   \n",
       "50%     171578.000000        NaN    66.000000      NaN   182.000000     NaN   \n",
       "75%     189185.000000        NaN    72.000000      NaN   186.000000     NaN   \n",
       "max     205583.000000        NaN    94.000000      NaN   208.000000     NaN   \n",
       "\n",
       "               rare  pace shooting passing dribbling defending heading diving  \\\n",
       "count   8847.000000  8847     8847    8847      8847      8847    8847   8847   \n",
       "unique          NaN    73       80      76        76        64      67     49   \n",
       "top             NaN                                                             \n",
       "freq            NaN   930      930     930       930       930     930   7917   \n",
       "mean       0.353114   NaN      NaN     NaN       NaN       NaN     NaN    NaN   \n",
       "std        0.477965   NaN      NaN     NaN       NaN       NaN     NaN    NaN   \n",
       "min        0.000000   NaN      NaN     NaN       NaN       NaN     NaN    NaN   \n",
       "25%        0.000000   NaN      NaN     NaN       NaN       NaN     NaN    NaN   \n",
       "50%        0.000000   NaN      NaN     NaN       NaN       NaN     NaN    NaN   \n",
       "75%        1.000000   NaN      NaN     NaN       NaN       NaN     NaN    NaN   \n",
       "max        1.000000   NaN      NaN     NaN       NaN       NaN     NaN    NaN   \n",
       "\n",
       "       handling kicking reflexes speed  positioning  \n",
       "count      8847    8847     8847  8847   930.000000  \n",
       "unique       45      53       53    54          NaN  \n",
       "top                                             NaN  \n",
       "freq       7917    7917     7917  7917          NaN  \n",
       "mean        NaN     NaN      NaN   NaN    64.955914  \n",
       "std         NaN     NaN      NaN   NaN     8.854231  \n",
       "min         NaN     NaN      NaN   NaN    37.000000  \n",
       "25%         NaN     NaN      NaN   NaN    59.000000  \n",
       "50%         NaN     NaN      NaN   NaN    65.000000  \n",
       "75%         NaN     NaN      NaN   NaN    71.000000  \n",
       "max         NaN     NaN      NaN   NaN    91.000000  "
      ]
     },
     "execution_count": 11,
     "metadata": {},
     "output_type": "execute_result"
    }
   ],
   "source": [
    "#Write Your Code Here\n",
    "dffifa.describe(include='all')"
   ]
  },
  {
   "cell_type": "markdown",
   "metadata": {},
   "source": [
    "### Task 3: Dealing with Missing Value "
   ]
  },
  {
   "cell_type": "markdown",
   "metadata": {},
   "source": [
    "**i. Count the number of missing values in each column**"
   ]
  },
  {
   "cell_type": "code",
   "execution_count": 12,
   "metadata": {},
   "outputs": [
    {
     "data": {
      "text/plain": [
       "id                0\n",
       "name              0\n",
       "rating            0\n",
       "position          0\n",
       "height            0\n",
       "foot              0\n",
       "rare              0\n",
       "pace              0\n",
       "shooting          0\n",
       "passing           0\n",
       "dribbling         0\n",
       "defending         0\n",
       "heading           0\n",
       "diving            0\n",
       "handling          0\n",
       "kicking           0\n",
       "reflexes          0\n",
       "speed             0\n",
       "positioning    7917\n",
       "dtype: int64"
      ]
     },
     "execution_count": 12,
     "metadata": {},
     "output_type": "execute_result"
    }
   ],
   "source": [
    "#Write Your Code Here\n",
    "dffifa.isnull().sum()"
   ]
  },
  {
   "cell_type": "markdown",
   "metadata": {},
   "source": [
    "**ii. Replace extra space with NaN**"
   ]
  },
  {
   "cell_type": "code",
   "execution_count": 13,
   "metadata": {},
   "outputs": [],
   "source": [
    "#write code here"
   ]
  },
  {
   "cell_type": "code",
   "execution_count": 14,
   "metadata": {},
   "outputs": [
    {
     "data": {
      "text/plain": [
       "(8847, 19)"
      ]
     },
     "execution_count": 14,
     "metadata": {},
     "output_type": "execute_result"
    }
   ],
   "source": [
    "dffifa.shape"
   ]
  },
  {
   "cell_type": "code",
   "execution_count": 15,
   "metadata": {},
   "outputs": [],
   "source": [
    "dffifa = dffifa.replace({' ': np.nan})"
   ]
  },
  {
   "cell_type": "code",
   "execution_count": 16,
   "metadata": {},
   "outputs": [
    {
     "data": {
      "text/html": [
       "<div>\n",
       "<style scoped>\n",
       "    .dataframe tbody tr th:only-of-type {\n",
       "        vertical-align: middle;\n",
       "    }\n",
       "\n",
       "    .dataframe tbody tr th {\n",
       "        vertical-align: top;\n",
       "    }\n",
       "\n",
       "    .dataframe thead th {\n",
       "        text-align: right;\n",
       "    }\n",
       "</style>\n",
       "<table border=\"1\" class=\"dataframe\">\n",
       "  <thead>\n",
       "    <tr style=\"text-align: right;\">\n",
       "      <th></th>\n",
       "      <th>id</th>\n",
       "      <th>name</th>\n",
       "      <th>rating</th>\n",
       "      <th>position</th>\n",
       "      <th>height</th>\n",
       "      <th>foot</th>\n",
       "      <th>rare</th>\n",
       "      <th>pace</th>\n",
       "      <th>shooting</th>\n",
       "      <th>passing</th>\n",
       "      <th>dribbling</th>\n",
       "      <th>defending</th>\n",
       "      <th>heading</th>\n",
       "      <th>diving</th>\n",
       "      <th>handling</th>\n",
       "      <th>kicking</th>\n",
       "      <th>reflexes</th>\n",
       "      <th>speed</th>\n",
       "      <th>positioning</th>\n",
       "    </tr>\n",
       "  </thead>\n",
       "  <tbody>\n",
       "    <tr>\n",
       "      <th>0</th>\n",
       "      <td>1001</td>\n",
       "      <td>Gábor Király</td>\n",
       "      <td>69</td>\n",
       "      <td>GK</td>\n",
       "      <td>191</td>\n",
       "      <td>Right</td>\n",
       "      <td>0</td>\n",
       "      <td>NaN</td>\n",
       "      <td>NaN</td>\n",
       "      <td>NaN</td>\n",
       "      <td>NaN</td>\n",
       "      <td>NaN</td>\n",
       "      <td>NaN</td>\n",
       "      <td>70</td>\n",
       "      <td>66</td>\n",
       "      <td>63</td>\n",
       "      <td>74</td>\n",
       "      <td>35</td>\n",
       "      <td>66.0</td>\n",
       "    </tr>\n",
       "    <tr>\n",
       "      <th>1</th>\n",
       "      <td>100143</td>\n",
       "      <td>Frederik Boi</td>\n",
       "      <td>65</td>\n",
       "      <td>M</td>\n",
       "      <td>184</td>\n",
       "      <td>Right</td>\n",
       "      <td>0</td>\n",
       "      <td>61</td>\n",
       "      <td>65</td>\n",
       "      <td>63</td>\n",
       "      <td>59</td>\n",
       "      <td>62</td>\n",
       "      <td>62</td>\n",
       "      <td>NaN</td>\n",
       "      <td>NaN</td>\n",
       "      <td>NaN</td>\n",
       "      <td>NaN</td>\n",
       "      <td>NaN</td>\n",
       "      <td>NaN</td>\n",
       "    </tr>\n",
       "    <tr>\n",
       "      <th>2</th>\n",
       "      <td>100264</td>\n",
       "      <td>Tomasz Szewczuk</td>\n",
       "      <td>57</td>\n",
       "      <td>A</td>\n",
       "      <td>185</td>\n",
       "      <td>Right</td>\n",
       "      <td>0</td>\n",
       "      <td>65</td>\n",
       "      <td>54</td>\n",
       "      <td>43</td>\n",
       "      <td>53</td>\n",
       "      <td>55</td>\n",
       "      <td>74</td>\n",
       "      <td>NaN</td>\n",
       "      <td>NaN</td>\n",
       "      <td>NaN</td>\n",
       "      <td>NaN</td>\n",
       "      <td>NaN</td>\n",
       "      <td>NaN</td>\n",
       "    </tr>\n",
       "    <tr>\n",
       "      <th>3</th>\n",
       "      <td>100325</td>\n",
       "      <td>Steeve Joseph-Reinette</td>\n",
       "      <td>63</td>\n",
       "      <td>D</td>\n",
       "      <td>180</td>\n",
       "      <td>Left</td>\n",
       "      <td>0</td>\n",
       "      <td>68</td>\n",
       "      <td>38</td>\n",
       "      <td>51</td>\n",
       "      <td>46</td>\n",
       "      <td>64</td>\n",
       "      <td>71</td>\n",
       "      <td>NaN</td>\n",
       "      <td>NaN</td>\n",
       "      <td>NaN</td>\n",
       "      <td>NaN</td>\n",
       "      <td>NaN</td>\n",
       "      <td>NaN</td>\n",
       "    </tr>\n",
       "    <tr>\n",
       "      <th>4</th>\n",
       "      <td>100326</td>\n",
       "      <td>Kamel Chafni</td>\n",
       "      <td>72</td>\n",
       "      <td>M</td>\n",
       "      <td>181</td>\n",
       "      <td>Right</td>\n",
       "      <td>0</td>\n",
       "      <td>75</td>\n",
       "      <td>64</td>\n",
       "      <td>67</td>\n",
       "      <td>72</td>\n",
       "      <td>57</td>\n",
       "      <td>66</td>\n",
       "      <td>NaN</td>\n",
       "      <td>NaN</td>\n",
       "      <td>NaN</td>\n",
       "      <td>NaN</td>\n",
       "      <td>NaN</td>\n",
       "      <td>NaN</td>\n",
       "    </tr>\n",
       "  </tbody>\n",
       "</table>\n",
       "</div>"
      ],
      "text/plain": [
       "       id                     name  rating position  height    foot  rare  \\\n",
       "0    1001             Gábor Király      69       GK     191   Right     0   \n",
       "1  100143             Frederik Boi      65        M     184   Right     0   \n",
       "2  100264          Tomasz Szewczuk      57        A     185   Right     0   \n",
       "3  100325   Steeve Joseph-Reinette      63        D     180    Left     0   \n",
       "4  100326             Kamel Chafni      72        M     181   Right     0   \n",
       "\n",
       "  pace shooting passing dribbling defending heading diving handling kicking  \\\n",
       "0  NaN      NaN     NaN       NaN       NaN     NaN     70       66      63   \n",
       "1   61       65      63        59        62      62    NaN      NaN     NaN   \n",
       "2   65       54      43        53        55      74    NaN      NaN     NaN   \n",
       "3   68       38      51        46        64      71    NaN      NaN     NaN   \n",
       "4   75       64      67        72        57      66    NaN      NaN     NaN   \n",
       "\n",
       "  reflexes speed  positioning  \n",
       "0       74    35         66.0  \n",
       "1      NaN   NaN          NaN  \n",
       "2      NaN   NaN          NaN  \n",
       "3      NaN   NaN          NaN  \n",
       "4      NaN   NaN          NaN  "
      ]
     },
     "execution_count": 16,
     "metadata": {},
     "output_type": "execute_result"
    }
   ],
   "source": [
    "dffifa.head()"
   ]
  },
  {
   "cell_type": "markdown",
   "metadata": {},
   "source": [
    "**iii. Fill all null values of dataframe with 0**"
   ]
  },
  {
   "cell_type": "code",
   "execution_count": 17,
   "metadata": {},
   "outputs": [
    {
     "data": {
      "text/plain": [
       "id                0\n",
       "name              0\n",
       "rating            0\n",
       "position          0\n",
       "height            0\n",
       "foot              0\n",
       "rare              0\n",
       "pace            930\n",
       "shooting        930\n",
       "passing         930\n",
       "dribbling       930\n",
       "defending       930\n",
       "heading         930\n",
       "diving         7917\n",
       "handling       7917\n",
       "kicking        7917\n",
       "reflexes       7917\n",
       "speed          7917\n",
       "positioning    7917\n",
       "dtype: int64"
      ]
     },
     "execution_count": 17,
     "metadata": {},
     "output_type": "execute_result"
    }
   ],
   "source": [
    "#write code here\n",
    "dffifa.isnull().sum()"
   ]
  },
  {
   "cell_type": "code",
   "execution_count": 18,
   "metadata": {},
   "outputs": [
    {
     "data": {
      "text/html": [
       "<div>\n",
       "<style scoped>\n",
       "    .dataframe tbody tr th:only-of-type {\n",
       "        vertical-align: middle;\n",
       "    }\n",
       "\n",
       "    .dataframe tbody tr th {\n",
       "        vertical-align: top;\n",
       "    }\n",
       "\n",
       "    .dataframe thead th {\n",
       "        text-align: right;\n",
       "    }\n",
       "</style>\n",
       "<table border=\"1\" class=\"dataframe\">\n",
       "  <thead>\n",
       "    <tr style=\"text-align: right;\">\n",
       "      <th></th>\n",
       "      <th>id</th>\n",
       "      <th>name</th>\n",
       "      <th>rating</th>\n",
       "      <th>position</th>\n",
       "      <th>height</th>\n",
       "      <th>foot</th>\n",
       "      <th>rare</th>\n",
       "      <th>pace</th>\n",
       "      <th>shooting</th>\n",
       "      <th>passing</th>\n",
       "      <th>dribbling</th>\n",
       "      <th>defending</th>\n",
       "      <th>heading</th>\n",
       "      <th>diving</th>\n",
       "      <th>handling</th>\n",
       "      <th>kicking</th>\n",
       "      <th>reflexes</th>\n",
       "      <th>speed</th>\n",
       "      <th>positioning</th>\n",
       "    </tr>\n",
       "  </thead>\n",
       "  <tbody>\n",
       "    <tr>\n",
       "      <th>0</th>\n",
       "      <td>1001</td>\n",
       "      <td>Gábor Király</td>\n",
       "      <td>69</td>\n",
       "      <td>GK</td>\n",
       "      <td>191</td>\n",
       "      <td>Right</td>\n",
       "      <td>0</td>\n",
       "      <td>0</td>\n",
       "      <td>0</td>\n",
       "      <td>0</td>\n",
       "      <td>0</td>\n",
       "      <td>0</td>\n",
       "      <td>0</td>\n",
       "      <td>70</td>\n",
       "      <td>66</td>\n",
       "      <td>63</td>\n",
       "      <td>74</td>\n",
       "      <td>35</td>\n",
       "      <td>66.0</td>\n",
       "    </tr>\n",
       "    <tr>\n",
       "      <th>1</th>\n",
       "      <td>100143</td>\n",
       "      <td>Frederik Boi</td>\n",
       "      <td>65</td>\n",
       "      <td>M</td>\n",
       "      <td>184</td>\n",
       "      <td>Right</td>\n",
       "      <td>0</td>\n",
       "      <td>61</td>\n",
       "      <td>65</td>\n",
       "      <td>63</td>\n",
       "      <td>59</td>\n",
       "      <td>62</td>\n",
       "      <td>62</td>\n",
       "      <td>0</td>\n",
       "      <td>0</td>\n",
       "      <td>0</td>\n",
       "      <td>0</td>\n",
       "      <td>0</td>\n",
       "      <td>0.0</td>\n",
       "    </tr>\n",
       "    <tr>\n",
       "      <th>2</th>\n",
       "      <td>100264</td>\n",
       "      <td>Tomasz Szewczuk</td>\n",
       "      <td>57</td>\n",
       "      <td>A</td>\n",
       "      <td>185</td>\n",
       "      <td>Right</td>\n",
       "      <td>0</td>\n",
       "      <td>65</td>\n",
       "      <td>54</td>\n",
       "      <td>43</td>\n",
       "      <td>53</td>\n",
       "      <td>55</td>\n",
       "      <td>74</td>\n",
       "      <td>0</td>\n",
       "      <td>0</td>\n",
       "      <td>0</td>\n",
       "      <td>0</td>\n",
       "      <td>0</td>\n",
       "      <td>0.0</td>\n",
       "    </tr>\n",
       "    <tr>\n",
       "      <th>3</th>\n",
       "      <td>100325</td>\n",
       "      <td>Steeve Joseph-Reinette</td>\n",
       "      <td>63</td>\n",
       "      <td>D</td>\n",
       "      <td>180</td>\n",
       "      <td>Left</td>\n",
       "      <td>0</td>\n",
       "      <td>68</td>\n",
       "      <td>38</td>\n",
       "      <td>51</td>\n",
       "      <td>46</td>\n",
       "      <td>64</td>\n",
       "      <td>71</td>\n",
       "      <td>0</td>\n",
       "      <td>0</td>\n",
       "      <td>0</td>\n",
       "      <td>0</td>\n",
       "      <td>0</td>\n",
       "      <td>0.0</td>\n",
       "    </tr>\n",
       "    <tr>\n",
       "      <th>4</th>\n",
       "      <td>100326</td>\n",
       "      <td>Kamel Chafni</td>\n",
       "      <td>72</td>\n",
       "      <td>M</td>\n",
       "      <td>181</td>\n",
       "      <td>Right</td>\n",
       "      <td>0</td>\n",
       "      <td>75</td>\n",
       "      <td>64</td>\n",
       "      <td>67</td>\n",
       "      <td>72</td>\n",
       "      <td>57</td>\n",
       "      <td>66</td>\n",
       "      <td>0</td>\n",
       "      <td>0</td>\n",
       "      <td>0</td>\n",
       "      <td>0</td>\n",
       "      <td>0</td>\n",
       "      <td>0.0</td>\n",
       "    </tr>\n",
       "    <tr>\n",
       "      <th>...</th>\n",
       "      <td>...</td>\n",
       "      <td>...</td>\n",
       "      <td>...</td>\n",
       "      <td>...</td>\n",
       "      <td>...</td>\n",
       "      <td>...</td>\n",
       "      <td>...</td>\n",
       "      <td>...</td>\n",
       "      <td>...</td>\n",
       "      <td>...</td>\n",
       "      <td>...</td>\n",
       "      <td>...</td>\n",
       "      <td>...</td>\n",
       "      <td>...</td>\n",
       "      <td>...</td>\n",
       "      <td>...</td>\n",
       "      <td>...</td>\n",
       "      <td>...</td>\n",
       "      <td>...</td>\n",
       "    </tr>\n",
       "    <tr>\n",
       "      <th>8842</th>\n",
       "      <td>9801</td>\n",
       "      <td>Danijel Ljuboja</td>\n",
       "      <td>73</td>\n",
       "      <td>A</td>\n",
       "      <td>189</td>\n",
       "      <td>Left</td>\n",
       "      <td>1</td>\n",
       "      <td>62</td>\n",
       "      <td>73</td>\n",
       "      <td>64</td>\n",
       "      <td>74</td>\n",
       "      <td>56</td>\n",
       "      <td>68</td>\n",
       "      <td>0</td>\n",
       "      <td>0</td>\n",
       "      <td>0</td>\n",
       "      <td>0</td>\n",
       "      <td>0</td>\n",
       "      <td>0.0</td>\n",
       "    </tr>\n",
       "    <tr>\n",
       "      <th>8843</th>\n",
       "      <td>9805</td>\n",
       "      <td>Craig Bellamy</td>\n",
       "      <td>79</td>\n",
       "      <td>A</td>\n",
       "      <td>175</td>\n",
       "      <td>Right</td>\n",
       "      <td>0</td>\n",
       "      <td>80</td>\n",
       "      <td>78</td>\n",
       "      <td>67</td>\n",
       "      <td>81</td>\n",
       "      <td>62</td>\n",
       "      <td>71</td>\n",
       "      <td>0</td>\n",
       "      <td>0</td>\n",
       "      <td>0</td>\n",
       "      <td>0</td>\n",
       "      <td>0</td>\n",
       "      <td>0.0</td>\n",
       "    </tr>\n",
       "    <tr>\n",
       "      <th>8844</th>\n",
       "      <td>9807</td>\n",
       "      <td>Michel Breuer</td>\n",
       "      <td>68</td>\n",
       "      <td>D</td>\n",
       "      <td>183</td>\n",
       "      <td>Right</td>\n",
       "      <td>0</td>\n",
       "      <td>61</td>\n",
       "      <td>40</td>\n",
       "      <td>56</td>\n",
       "      <td>51</td>\n",
       "      <td>70</td>\n",
       "      <td>74</td>\n",
       "      <td>0</td>\n",
       "      <td>0</td>\n",
       "      <td>0</td>\n",
       "      <td>0</td>\n",
       "      <td>0</td>\n",
       "      <td>0.0</td>\n",
       "    </tr>\n",
       "    <tr>\n",
       "      <th>8845</th>\n",
       "      <td>9815</td>\n",
       "      <td>Gill Swerts</td>\n",
       "      <td>65</td>\n",
       "      <td>D</td>\n",
       "      <td>179</td>\n",
       "      <td>Right</td>\n",
       "      <td>0</td>\n",
       "      <td>65</td>\n",
       "      <td>48</td>\n",
       "      <td>63</td>\n",
       "      <td>65</td>\n",
       "      <td>67</td>\n",
       "      <td>69</td>\n",
       "      <td>0</td>\n",
       "      <td>0</td>\n",
       "      <td>0</td>\n",
       "      <td>0</td>\n",
       "      <td>0</td>\n",
       "      <td>0.0</td>\n",
       "    </tr>\n",
       "    <tr>\n",
       "      <th>8846</th>\n",
       "      <td>9913</td>\n",
       "      <td>Mehdi Nafti</td>\n",
       "      <td>69</td>\n",
       "      <td>M</td>\n",
       "      <td>179</td>\n",
       "      <td>Right</td>\n",
       "      <td>0</td>\n",
       "      <td>55</td>\n",
       "      <td>56</td>\n",
       "      <td>64</td>\n",
       "      <td>65</td>\n",
       "      <td>69</td>\n",
       "      <td>60</td>\n",
       "      <td>0</td>\n",
       "      <td>0</td>\n",
       "      <td>0</td>\n",
       "      <td>0</td>\n",
       "      <td>0</td>\n",
       "      <td>0.0</td>\n",
       "    </tr>\n",
       "  </tbody>\n",
       "</table>\n",
       "<p>8847 rows × 19 columns</p>\n",
       "</div>"
      ],
      "text/plain": [
       "          id                     name  rating position  height    foot  rare  \\\n",
       "0       1001             Gábor Király      69       GK     191   Right     0   \n",
       "1     100143             Frederik Boi      65        M     184   Right     0   \n",
       "2     100264          Tomasz Szewczuk      57        A     185   Right     0   \n",
       "3     100325   Steeve Joseph-Reinette      63        D     180    Left     0   \n",
       "4     100326             Kamel Chafni      72        M     181   Right     0   \n",
       "...      ...                      ...     ...      ...     ...     ...   ...   \n",
       "8842    9801          Danijel Ljuboja      73        A     189    Left     1   \n",
       "8843    9805            Craig Bellamy      79        A     175   Right     0   \n",
       "8844    9807            Michel Breuer      68        D     183   Right     0   \n",
       "8845    9815              Gill Swerts      65        D     179   Right     0   \n",
       "8846    9913              Mehdi Nafti      69        M     179   Right     0   \n",
       "\n",
       "     pace shooting passing dribbling defending heading diving handling  \\\n",
       "0       0        0       0         0         0       0     70       66   \n",
       "1      61       65      63        59        62      62      0        0   \n",
       "2      65       54      43        53        55      74      0        0   \n",
       "3      68       38      51        46        64      71      0        0   \n",
       "4      75       64      67        72        57      66      0        0   \n",
       "...   ...      ...     ...       ...       ...     ...    ...      ...   \n",
       "8842   62       73      64        74        56      68      0        0   \n",
       "8843   80       78      67        81        62      71      0        0   \n",
       "8844   61       40      56        51        70      74      0        0   \n",
       "8845   65       48      63        65        67      69      0        0   \n",
       "8846   55       56      64        65        69      60      0        0   \n",
       "\n",
       "     kicking reflexes speed  positioning  \n",
       "0         63       74    35         66.0  \n",
       "1          0        0     0          0.0  \n",
       "2          0        0     0          0.0  \n",
       "3          0        0     0          0.0  \n",
       "4          0        0     0          0.0  \n",
       "...      ...      ...   ...          ...  \n",
       "8842       0        0     0          0.0  \n",
       "8843       0        0     0          0.0  \n",
       "8844       0        0     0          0.0  \n",
       "8845       0        0     0          0.0  \n",
       "8846       0        0     0          0.0  \n",
       "\n",
       "[8847 rows x 19 columns]"
      ]
     },
     "execution_count": 18,
     "metadata": {},
     "output_type": "execute_result"
    }
   ],
   "source": [
    "#write code here\n",
    "dffifa = dffifa.fillna(0)\n",
    "dffifa"
   ]
  },
  {
   "cell_type": "code",
   "execution_count": 19,
   "metadata": {},
   "outputs": [
    {
     "data": {
      "text/plain": [
       "id             0\n",
       "name           0\n",
       "rating         0\n",
       "position       0\n",
       "height         0\n",
       "foot           0\n",
       "rare           0\n",
       "pace           0\n",
       "shooting       0\n",
       "passing        0\n",
       "dribbling      0\n",
       "defending      0\n",
       "heading        0\n",
       "diving         0\n",
       "handling       0\n",
       "kicking        0\n",
       "reflexes       0\n",
       "speed          0\n",
       "positioning    0\n",
       "dtype: int64"
      ]
     },
     "execution_count": 19,
     "metadata": {},
     "output_type": "execute_result"
    }
   ],
   "source": [
    "dffifa.isnull().sum()"
   ]
  },
  {
   "cell_type": "markdown",
   "metadata": {},
   "source": [
    "**iv. Count the number of players in each position**"
   ]
  },
  {
   "cell_type": "code",
   "execution_count": 20,
   "metadata": {},
   "outputs": [
    {
     "data": {
      "text/plain": [
       "array([' GK', ' M', ' A', ' D'], dtype=object)"
      ]
     },
     "execution_count": 20,
     "metadata": {},
     "output_type": "execute_result"
    }
   ],
   "source": [
    "#Write Your Code Here\n",
    "dffifa['position'].unique()"
   ]
  },
  {
   "cell_type": "code",
   "execution_count": 21,
   "metadata": {},
   "outputs": [
    {
     "data": {
      "text/html": [
       "<div>\n",
       "<style scoped>\n",
       "    .dataframe tbody tr th:only-of-type {\n",
       "        vertical-align: middle;\n",
       "    }\n",
       "\n",
       "    .dataframe tbody tr th {\n",
       "        vertical-align: top;\n",
       "    }\n",
       "\n",
       "    .dataframe thead th {\n",
       "        text-align: right;\n",
       "    }\n",
       "</style>\n",
       "<table border=\"1\" class=\"dataframe\">\n",
       "  <thead>\n",
       "    <tr style=\"text-align: right;\">\n",
       "      <th></th>\n",
       "      <th>position</th>\n",
       "      <th>no_of_players</th>\n",
       "    </tr>\n",
       "  </thead>\n",
       "  <tbody>\n",
       "    <tr>\n",
       "      <th>0</th>\n",
       "      <td>M</td>\n",
       "      <td>3041</td>\n",
       "    </tr>\n",
       "    <tr>\n",
       "      <th>1</th>\n",
       "      <td>D</td>\n",
       "      <td>2794</td>\n",
       "    </tr>\n",
       "    <tr>\n",
       "      <th>2</th>\n",
       "      <td>A</td>\n",
       "      <td>2082</td>\n",
       "    </tr>\n",
       "    <tr>\n",
       "      <th>3</th>\n",
       "      <td>GK</td>\n",
       "      <td>930</td>\n",
       "    </tr>\n",
       "  </tbody>\n",
       "</table>\n",
       "</div>"
      ],
      "text/plain": [
       "  position  no_of_players\n",
       "0        M           3041\n",
       "1        D           2794\n",
       "2        A           2082\n",
       "3       GK            930"
      ]
     },
     "execution_count": 21,
     "metadata": {},
     "output_type": "execute_result"
    }
   ],
   "source": [
    "dffifa['position'].value_counts().reset_index(name= 'no_of_players')"
   ]
  },
  {
   "cell_type": "markdown",
   "metadata": {},
   "source": [
    "**v. Check datatypes of all columns**"
   ]
  },
  {
   "cell_type": "code",
   "execution_count": 22,
   "metadata": {},
   "outputs": [
    {
     "data": {
      "text/plain": [
       "id               int64\n",
       "name            object\n",
       "rating           int64\n",
       "position        object\n",
       "height           int64\n",
       "foot            object\n",
       "rare             int64\n",
       "pace            object\n",
       "shooting        object\n",
       "passing         object\n",
       "dribbling       object\n",
       "defending       object\n",
       "heading         object\n",
       "diving          object\n",
       "handling        object\n",
       "kicking         object\n",
       "reflexes        object\n",
       "speed           object\n",
       "positioning    float64\n",
       "dtype: object"
      ]
     },
     "execution_count": 22,
     "metadata": {},
     "output_type": "execute_result"
    }
   ],
   "source": [
    "#write code here\n",
    "dffifa.dtypes"
   ]
  },
  {
   "cell_type": "markdown",
   "metadata": {},
   "source": [
    "**vi. Cast ' pace', ' shooting', ' passing', ' dribbling', ' defending',' heading', ' diving', ' handling', ' kicking', ' reflexes', ' speed',' positioning' into Integer type**"
   ]
  },
  {
   "cell_type": "code",
   "execution_count": 23,
   "metadata": {},
   "outputs": [],
   "source": [
    "#write code here\n",
    "dffifa[['pace', 'shooting', 'passing', 'dribbling', 'defending', 'heading', 'diving', 'handling', 'kicking', 'reflexes', 'speed']] = dffifa[['pace', 'shooting', 'passing', 'dribbling', 'defending', 'heading', 'diving', 'handling', 'kicking', 'reflexes', 'speed']].astype(str).astype(np.int64) \n",
    "dffifa['positioning']=dffifa['positioning'].astype(np.float64).astype(np.int64)"
   ]
  },
  {
   "cell_type": "code",
   "execution_count": 24,
   "metadata": {},
   "outputs": [
    {
     "data": {
      "text/plain": [
       "id              int64\n",
       "name           object\n",
       "rating          int64\n",
       "position       object\n",
       "height          int64\n",
       "foot           object\n",
       "rare            int64\n",
       "pace            int64\n",
       "shooting        int64\n",
       "passing         int64\n",
       "dribbling       int64\n",
       "defending       int64\n",
       "heading         int64\n",
       "diving          int64\n",
       "handling        int64\n",
       "kicking         int64\n",
       "reflexes        int64\n",
       "speed           int64\n",
       "positioning     int64\n",
       "dtype: object"
      ]
     },
     "execution_count": 24,
     "metadata": {},
     "output_type": "execute_result"
    }
   ],
   "source": [
    "#write code here\n",
    "dffifa.dtypes"
   ]
  },
  {
   "cell_type": "code",
   "execution_count": 25,
   "metadata": {},
   "outputs": [
    {
     "data": {
      "text/html": [
       "<div>\n",
       "<style scoped>\n",
       "    .dataframe tbody tr th:only-of-type {\n",
       "        vertical-align: middle;\n",
       "    }\n",
       "\n",
       "    .dataframe tbody tr th {\n",
       "        vertical-align: top;\n",
       "    }\n",
       "\n",
       "    .dataframe thead th {\n",
       "        text-align: right;\n",
       "    }\n",
       "</style>\n",
       "<table border=\"1\" class=\"dataframe\">\n",
       "  <thead>\n",
       "    <tr style=\"text-align: right;\">\n",
       "      <th></th>\n",
       "      <th>id</th>\n",
       "      <th>name</th>\n",
       "      <th>rating</th>\n",
       "      <th>position</th>\n",
       "      <th>height</th>\n",
       "      <th>foot</th>\n",
       "      <th>rare</th>\n",
       "      <th>pace</th>\n",
       "      <th>shooting</th>\n",
       "      <th>passing</th>\n",
       "      <th>dribbling</th>\n",
       "      <th>defending</th>\n",
       "      <th>heading</th>\n",
       "      <th>diving</th>\n",
       "      <th>handling</th>\n",
       "      <th>kicking</th>\n",
       "      <th>reflexes</th>\n",
       "      <th>speed</th>\n",
       "      <th>positioning</th>\n",
       "    </tr>\n",
       "  </thead>\n",
       "  <tbody>\n",
       "    <tr>\n",
       "      <th>0</th>\n",
       "      <td>1001</td>\n",
       "      <td>Gábor Király</td>\n",
       "      <td>69</td>\n",
       "      <td>GK</td>\n",
       "      <td>191</td>\n",
       "      <td>Right</td>\n",
       "      <td>0</td>\n",
       "      <td>0</td>\n",
       "      <td>0</td>\n",
       "      <td>0</td>\n",
       "      <td>0</td>\n",
       "      <td>0</td>\n",
       "      <td>0</td>\n",
       "      <td>70</td>\n",
       "      <td>66</td>\n",
       "      <td>63</td>\n",
       "      <td>74</td>\n",
       "      <td>35</td>\n",
       "      <td>66</td>\n",
       "    </tr>\n",
       "    <tr>\n",
       "      <th>1</th>\n",
       "      <td>100143</td>\n",
       "      <td>Frederik Boi</td>\n",
       "      <td>65</td>\n",
       "      <td>M</td>\n",
       "      <td>184</td>\n",
       "      <td>Right</td>\n",
       "      <td>0</td>\n",
       "      <td>61</td>\n",
       "      <td>65</td>\n",
       "      <td>63</td>\n",
       "      <td>59</td>\n",
       "      <td>62</td>\n",
       "      <td>62</td>\n",
       "      <td>0</td>\n",
       "      <td>0</td>\n",
       "      <td>0</td>\n",
       "      <td>0</td>\n",
       "      <td>0</td>\n",
       "      <td>0</td>\n",
       "    </tr>\n",
       "    <tr>\n",
       "      <th>2</th>\n",
       "      <td>100264</td>\n",
       "      <td>Tomasz Szewczuk</td>\n",
       "      <td>57</td>\n",
       "      <td>A</td>\n",
       "      <td>185</td>\n",
       "      <td>Right</td>\n",
       "      <td>0</td>\n",
       "      <td>65</td>\n",
       "      <td>54</td>\n",
       "      <td>43</td>\n",
       "      <td>53</td>\n",
       "      <td>55</td>\n",
       "      <td>74</td>\n",
       "      <td>0</td>\n",
       "      <td>0</td>\n",
       "      <td>0</td>\n",
       "      <td>0</td>\n",
       "      <td>0</td>\n",
       "      <td>0</td>\n",
       "    </tr>\n",
       "    <tr>\n",
       "      <th>3</th>\n",
       "      <td>100325</td>\n",
       "      <td>Steeve Joseph-Reinette</td>\n",
       "      <td>63</td>\n",
       "      <td>D</td>\n",
       "      <td>180</td>\n",
       "      <td>Left</td>\n",
       "      <td>0</td>\n",
       "      <td>68</td>\n",
       "      <td>38</td>\n",
       "      <td>51</td>\n",
       "      <td>46</td>\n",
       "      <td>64</td>\n",
       "      <td>71</td>\n",
       "      <td>0</td>\n",
       "      <td>0</td>\n",
       "      <td>0</td>\n",
       "      <td>0</td>\n",
       "      <td>0</td>\n",
       "      <td>0</td>\n",
       "    </tr>\n",
       "    <tr>\n",
       "      <th>4</th>\n",
       "      <td>100326</td>\n",
       "      <td>Kamel Chafni</td>\n",
       "      <td>72</td>\n",
       "      <td>M</td>\n",
       "      <td>181</td>\n",
       "      <td>Right</td>\n",
       "      <td>0</td>\n",
       "      <td>75</td>\n",
       "      <td>64</td>\n",
       "      <td>67</td>\n",
       "      <td>72</td>\n",
       "      <td>57</td>\n",
       "      <td>66</td>\n",
       "      <td>0</td>\n",
       "      <td>0</td>\n",
       "      <td>0</td>\n",
       "      <td>0</td>\n",
       "      <td>0</td>\n",
       "      <td>0</td>\n",
       "    </tr>\n",
       "  </tbody>\n",
       "</table>\n",
       "</div>"
      ],
      "text/plain": [
       "       id                     name  rating position  height    foot  rare  \\\n",
       "0    1001             Gábor Király      69       GK     191   Right     0   \n",
       "1  100143             Frederik Boi      65        M     184   Right     0   \n",
       "2  100264          Tomasz Szewczuk      57        A     185   Right     0   \n",
       "3  100325   Steeve Joseph-Reinette      63        D     180    Left     0   \n",
       "4  100326             Kamel Chafni      72        M     181   Right     0   \n",
       "\n",
       "   pace  shooting  passing  dribbling  defending  heading  diving  handling  \\\n",
       "0     0         0        0          0          0        0      70        66   \n",
       "1    61        65       63         59         62       62       0         0   \n",
       "2    65        54       43         53         55       74       0         0   \n",
       "3    68        38       51         46         64       71       0         0   \n",
       "4    75        64       67         72         57       66       0         0   \n",
       "\n",
       "   kicking  reflexes  speed  positioning  \n",
       "0       63        74     35           66  \n",
       "1        0         0      0            0  \n",
       "2        0         0      0            0  \n",
       "3        0         0      0            0  \n",
       "4        0         0      0            0  "
      ]
     },
     "execution_count": 25,
     "metadata": {},
     "output_type": "execute_result"
    }
   ],
   "source": [
    "dffifa.head()"
   ]
  },
  {
   "cell_type": "markdown",
   "metadata": {},
   "source": [
    "### Task 4"
   ]
  },
  {
   "cell_type": "markdown",
   "metadata": {},
   "source": [
    "**You have to split the dataframe into two dataframes, one containing all the features of Goal Keeper and other dataframe contains all other players** \n"
   ]
  },
  {
   "cell_type": "code",
   "execution_count": 26,
   "metadata": {},
   "outputs": [
    {
     "data": {
      "text/html": [
       "<div>\n",
       "<style scoped>\n",
       "    .dataframe tbody tr th:only-of-type {\n",
       "        vertical-align: middle;\n",
       "    }\n",
       "\n",
       "    .dataframe tbody tr th {\n",
       "        vertical-align: top;\n",
       "    }\n",
       "\n",
       "    .dataframe thead th {\n",
       "        text-align: right;\n",
       "    }\n",
       "</style>\n",
       "<table border=\"1\" class=\"dataframe\">\n",
       "  <thead>\n",
       "    <tr style=\"text-align: right;\">\n",
       "      <th></th>\n",
       "      <th>id</th>\n",
       "      <th>name</th>\n",
       "      <th>rating</th>\n",
       "      <th>position</th>\n",
       "      <th>height</th>\n",
       "      <th>foot</th>\n",
       "      <th>rare</th>\n",
       "      <th>pace</th>\n",
       "      <th>shooting</th>\n",
       "      <th>passing</th>\n",
       "      <th>dribbling</th>\n",
       "      <th>defending</th>\n",
       "      <th>heading</th>\n",
       "      <th>diving</th>\n",
       "      <th>handling</th>\n",
       "      <th>kicking</th>\n",
       "      <th>reflexes</th>\n",
       "      <th>speed</th>\n",
       "      <th>positioning</th>\n",
       "    </tr>\n",
       "  </thead>\n",
       "  <tbody>\n",
       "  </tbody>\n",
       "</table>\n",
       "</div>"
      ],
      "text/plain": [
       "Empty DataFrame\n",
       "Columns: [id, name, rating, position, height, foot, rare, pace, shooting, passing, dribbling, defending, heading, diving, handling, kicking, reflexes, speed, positioning]\n",
       "Index: []"
      ]
     },
     "execution_count": 26,
     "metadata": {},
     "output_type": "execute_result"
    }
   ],
   "source": [
    "df_goalkeeper= dffifa[dffifa['position'] == 'GK']\n",
    "df_goalkeeper.head()"
   ]
  },
  {
   "cell_type": "markdown",
   "metadata": {},
   "source": [
    "<span style=\"color:green\">**As you can see that the dataframe is empty and no value has been assigned to it. Let's check out the issue.**</span>"
   ]
  },
  {
   "cell_type": "markdown",
   "metadata": {},
   "source": [
    "**i. Check unique value of position, there must be a space on each position**"
   ]
  },
  {
   "cell_type": "code",
   "execution_count": 27,
   "metadata": {},
   "outputs": [
    {
     "data": {
      "text/plain": [
       "array([' GK', ' M', ' A', ' D'], dtype=object)"
      ]
     },
     "execution_count": 27,
     "metadata": {},
     "output_type": "execute_result"
    }
   ],
   "source": [
    "#Write code here\n",
    "dffifa['position'].unique()"
   ]
  },
  {
   "cell_type": "markdown",
   "metadata": {},
   "source": [
    "<span style=\"color:green\">**From the above output, you can see that there is an extra space in the position reffered to as GK.**</span> "
   ]
  },
  {
   "cell_type": "markdown",
   "metadata": {},
   "source": [
    "**ii. Remove extra space in position column and remove it like ' GK' to 'GK' and then again make dataframe of GK**<br>\n",
    "*Hint: Use str.replace*\n"
   ]
  },
  {
   "cell_type": "code",
   "execution_count": 28,
   "metadata": {},
   "outputs": [
    {
     "data": {
      "text/plain": [
       "array(['GK', 'M', 'A', 'D'], dtype=object)"
      ]
     },
     "execution_count": 28,
     "metadata": {},
     "output_type": "execute_result"
    }
   ],
   "source": [
    "#Write Code here\n",
    "dffifa['position'] = dffifa['position'].str.replace(\" \", \"\")\n",
    "dffifa['position'].unique()"
   ]
  },
  {
   "cell_type": "markdown",
   "metadata": {},
   "source": [
    "**iii. Now make a dataframe of df_goalkeeper.**"
   ]
  },
  {
   "cell_type": "code",
   "execution_count": 29,
   "metadata": {},
   "outputs": [
    {
     "data": {
      "text/html": [
       "<div>\n",
       "<style scoped>\n",
       "    .dataframe tbody tr th:only-of-type {\n",
       "        vertical-align: middle;\n",
       "    }\n",
       "\n",
       "    .dataframe tbody tr th {\n",
       "        vertical-align: top;\n",
       "    }\n",
       "\n",
       "    .dataframe thead th {\n",
       "        text-align: right;\n",
       "    }\n",
       "</style>\n",
       "<table border=\"1\" class=\"dataframe\">\n",
       "  <thead>\n",
       "    <tr style=\"text-align: right;\">\n",
       "      <th></th>\n",
       "      <th>id</th>\n",
       "      <th>name</th>\n",
       "      <th>rating</th>\n",
       "      <th>position</th>\n",
       "      <th>height</th>\n",
       "      <th>foot</th>\n",
       "      <th>rare</th>\n",
       "      <th>pace</th>\n",
       "      <th>shooting</th>\n",
       "      <th>passing</th>\n",
       "      <th>dribbling</th>\n",
       "      <th>defending</th>\n",
       "      <th>heading</th>\n",
       "      <th>diving</th>\n",
       "      <th>handling</th>\n",
       "      <th>kicking</th>\n",
       "      <th>reflexes</th>\n",
       "      <th>speed</th>\n",
       "      <th>positioning</th>\n",
       "    </tr>\n",
       "  </thead>\n",
       "  <tbody>\n",
       "    <tr>\n",
       "      <th>0</th>\n",
       "      <td>1001</td>\n",
       "      <td>Gábor Király</td>\n",
       "      <td>69</td>\n",
       "      <td>GK</td>\n",
       "      <td>191</td>\n",
       "      <td>Right</td>\n",
       "      <td>0</td>\n",
       "      <td>0</td>\n",
       "      <td>0</td>\n",
       "      <td>0</td>\n",
       "      <td>0</td>\n",
       "      <td>0</td>\n",
       "      <td>0</td>\n",
       "      <td>70</td>\n",
       "      <td>66</td>\n",
       "      <td>63</td>\n",
       "      <td>74</td>\n",
       "      <td>35</td>\n",
       "      <td>66</td>\n",
       "    </tr>\n",
       "    <tr>\n",
       "      <th>20</th>\n",
       "      <td>100745</td>\n",
       "      <td>Paul Smith</td>\n",
       "      <td>64</td>\n",
       "      <td>GK</td>\n",
       "      <td>193</td>\n",
       "      <td>Right</td>\n",
       "      <td>1</td>\n",
       "      <td>0</td>\n",
       "      <td>0</td>\n",
       "      <td>0</td>\n",
       "      <td>0</td>\n",
       "      <td>0</td>\n",
       "      <td>0</td>\n",
       "      <td>65</td>\n",
       "      <td>62</td>\n",
       "      <td>55</td>\n",
       "      <td>67</td>\n",
       "      <td>41</td>\n",
       "      <td>62</td>\n",
       "    </tr>\n",
       "    <tr>\n",
       "      <th>29</th>\n",
       "      <td>100807</td>\n",
       "      <td>Stefanos Kotsolis</td>\n",
       "      <td>65</td>\n",
       "      <td>GK</td>\n",
       "      <td>190</td>\n",
       "      <td>Right</td>\n",
       "      <td>0</td>\n",
       "      <td>0</td>\n",
       "      <td>0</td>\n",
       "      <td>0</td>\n",
       "      <td>0</td>\n",
       "      <td>0</td>\n",
       "      <td>0</td>\n",
       "      <td>62</td>\n",
       "      <td>68</td>\n",
       "      <td>62</td>\n",
       "      <td>65</td>\n",
       "      <td>60</td>\n",
       "      <td>64</td>\n",
       "    </tr>\n",
       "    <tr>\n",
       "      <th>31</th>\n",
       "      <td>100899</td>\n",
       "      <td>Steve Phillips</td>\n",
       "      <td>61</td>\n",
       "      <td>GK</td>\n",
       "      <td>185</td>\n",
       "      <td>Right</td>\n",
       "      <td>1</td>\n",
       "      <td>0</td>\n",
       "      <td>0</td>\n",
       "      <td>0</td>\n",
       "      <td>0</td>\n",
       "      <td>0</td>\n",
       "      <td>0</td>\n",
       "      <td>46</td>\n",
       "      <td>65</td>\n",
       "      <td>76</td>\n",
       "      <td>71</td>\n",
       "      <td>31</td>\n",
       "      <td>61</td>\n",
       "    </tr>\n",
       "    <tr>\n",
       "      <th>39</th>\n",
       "      <td>101282</td>\n",
       "      <td>Oka Nikolov</td>\n",
       "      <td>70</td>\n",
       "      <td>GK</td>\n",
       "      <td>188</td>\n",
       "      <td>Right</td>\n",
       "      <td>0</td>\n",
       "      <td>0</td>\n",
       "      <td>0</td>\n",
       "      <td>0</td>\n",
       "      <td>0</td>\n",
       "      <td>0</td>\n",
       "      <td>0</td>\n",
       "      <td>72</td>\n",
       "      <td>64</td>\n",
       "      <td>59</td>\n",
       "      <td>73</td>\n",
       "      <td>61</td>\n",
       "      <td>73</td>\n",
       "    </tr>\n",
       "  </tbody>\n",
       "</table>\n",
       "</div>"
      ],
      "text/plain": [
       "        id                name  rating position  height    foot  rare  pace  \\\n",
       "0     1001        Gábor Király      69       GK     191   Right     0     0   \n",
       "20  100745          Paul Smith      64       GK     193   Right     1     0   \n",
       "29  100807   Stefanos Kotsolis      65       GK     190   Right     0     0   \n",
       "31  100899      Steve Phillips      61       GK     185   Right     1     0   \n",
       "39  101282         Oka Nikolov      70       GK     188   Right     0     0   \n",
       "\n",
       "    shooting  passing  dribbling  defending  heading  diving  handling  \\\n",
       "0          0        0          0          0        0      70        66   \n",
       "20         0        0          0          0        0      65        62   \n",
       "29         0        0          0          0        0      62        68   \n",
       "31         0        0          0          0        0      46        65   \n",
       "39         0        0          0          0        0      72        64   \n",
       "\n",
       "    kicking  reflexes  speed  positioning  \n",
       "0        63        74     35           66  \n",
       "20       55        67     41           62  \n",
       "29       62        65     60           64  \n",
       "31       76        71     31           61  \n",
       "39       59        73     61           73  "
      ]
     },
     "execution_count": 29,
     "metadata": {},
     "output_type": "execute_result"
    }
   ],
   "source": [
    "#Write Your Code Here\n",
    "df_goalkeeper= dffifa[dffifa['position'] == 'GK']\n",
    "df_goalkeeper.head()"
   ]
  },
  {
   "cell_type": "markdown",
   "metadata": {},
   "source": [
    "**iv. Dataframe of goal keeper must and only contain the following columns 'id', 'name', 'rating', 'position', 'height', 'foot',' rare','diving', 'handling', 'kicking', 'reflexes', 'speed','positioning'** <br>\n",
    "**Drop all the other columns**"
   ]
  },
  {
   "cell_type": "code",
   "execution_count": 30,
   "metadata": {
    "scrolled": true
   },
   "outputs": [
    {
     "name": "stderr",
     "output_type": "stream",
     "text": [
      "C:\\Users\\Enviro Global\\AppData\\Local\\Temp\\ipykernel_10632\\3406322529.py:2: SettingWithCopyWarning: \n",
      "A value is trying to be set on a copy of a slice from a DataFrame\n",
      "\n",
      "See the caveats in the documentation: https://pandas.pydata.org/pandas-docs/stable/user_guide/indexing.html#returning-a-view-versus-a-copy\n",
      "  df_goalkeeper.drop(df_goalkeeper.iloc[:, 7:13], inplace=True, axis=1)\n"
     ]
    }
   ],
   "source": [
    "#write code here\n",
    "df_goalkeeper.drop(df_goalkeeper.iloc[:, 7:13], inplace=True, axis=1)"
   ]
  },
  {
   "cell_type": "code",
   "execution_count": 31,
   "metadata": {},
   "outputs": [
    {
     "data": {
      "text/plain": [
       "Index(['id', 'name', 'rating', 'position', 'height', 'foot', 'rare', 'diving',\n",
       "       'handling', 'kicking', 'reflexes', 'speed', 'positioning'],\n",
       "      dtype='object')"
      ]
     },
     "execution_count": 31,
     "metadata": {},
     "output_type": "execute_result"
    }
   ],
   "source": [
    "#write code here\n",
    "df_goalkeeper.columns"
   ]
  },
  {
   "cell_type": "markdown",
   "metadata": {},
   "source": [
    "**v. Make the dataframe of df_players having data of the all the other players except the goal keeper.**\n"
   ]
  },
  {
   "cell_type": "code",
   "execution_count": 32,
   "metadata": {},
   "outputs": [
    {
     "data": {
      "text/html": [
       "<div>\n",
       "<style scoped>\n",
       "    .dataframe tbody tr th:only-of-type {\n",
       "        vertical-align: middle;\n",
       "    }\n",
       "\n",
       "    .dataframe tbody tr th {\n",
       "        vertical-align: top;\n",
       "    }\n",
       "\n",
       "    .dataframe thead th {\n",
       "        text-align: right;\n",
       "    }\n",
       "</style>\n",
       "<table border=\"1\" class=\"dataframe\">\n",
       "  <thead>\n",
       "    <tr style=\"text-align: right;\">\n",
       "      <th></th>\n",
       "      <th>id</th>\n",
       "      <th>name</th>\n",
       "      <th>rating</th>\n",
       "      <th>position</th>\n",
       "      <th>height</th>\n",
       "      <th>foot</th>\n",
       "      <th>rare</th>\n",
       "      <th>pace</th>\n",
       "      <th>shooting</th>\n",
       "      <th>passing</th>\n",
       "      <th>dribbling</th>\n",
       "      <th>defending</th>\n",
       "      <th>heading</th>\n",
       "      <th>diving</th>\n",
       "      <th>handling</th>\n",
       "      <th>kicking</th>\n",
       "      <th>reflexes</th>\n",
       "      <th>speed</th>\n",
       "      <th>positioning</th>\n",
       "    </tr>\n",
       "  </thead>\n",
       "  <tbody>\n",
       "    <tr>\n",
       "      <th>1</th>\n",
       "      <td>100143</td>\n",
       "      <td>Frederik Boi</td>\n",
       "      <td>65</td>\n",
       "      <td>M</td>\n",
       "      <td>184</td>\n",
       "      <td>Right</td>\n",
       "      <td>0</td>\n",
       "      <td>61</td>\n",
       "      <td>65</td>\n",
       "      <td>63</td>\n",
       "      <td>59</td>\n",
       "      <td>62</td>\n",
       "      <td>62</td>\n",
       "      <td>0</td>\n",
       "      <td>0</td>\n",
       "      <td>0</td>\n",
       "      <td>0</td>\n",
       "      <td>0</td>\n",
       "      <td>0</td>\n",
       "    </tr>\n",
       "    <tr>\n",
       "      <th>2</th>\n",
       "      <td>100264</td>\n",
       "      <td>Tomasz Szewczuk</td>\n",
       "      <td>57</td>\n",
       "      <td>A</td>\n",
       "      <td>185</td>\n",
       "      <td>Right</td>\n",
       "      <td>0</td>\n",
       "      <td>65</td>\n",
       "      <td>54</td>\n",
       "      <td>43</td>\n",
       "      <td>53</td>\n",
       "      <td>55</td>\n",
       "      <td>74</td>\n",
       "      <td>0</td>\n",
       "      <td>0</td>\n",
       "      <td>0</td>\n",
       "      <td>0</td>\n",
       "      <td>0</td>\n",
       "      <td>0</td>\n",
       "    </tr>\n",
       "    <tr>\n",
       "      <th>3</th>\n",
       "      <td>100325</td>\n",
       "      <td>Steeve Joseph-Reinette</td>\n",
       "      <td>63</td>\n",
       "      <td>D</td>\n",
       "      <td>180</td>\n",
       "      <td>Left</td>\n",
       "      <td>0</td>\n",
       "      <td>68</td>\n",
       "      <td>38</td>\n",
       "      <td>51</td>\n",
       "      <td>46</td>\n",
       "      <td>64</td>\n",
       "      <td>71</td>\n",
       "      <td>0</td>\n",
       "      <td>0</td>\n",
       "      <td>0</td>\n",
       "      <td>0</td>\n",
       "      <td>0</td>\n",
       "      <td>0</td>\n",
       "    </tr>\n",
       "    <tr>\n",
       "      <th>4</th>\n",
       "      <td>100326</td>\n",
       "      <td>Kamel Chafni</td>\n",
       "      <td>72</td>\n",
       "      <td>M</td>\n",
       "      <td>181</td>\n",
       "      <td>Right</td>\n",
       "      <td>0</td>\n",
       "      <td>75</td>\n",
       "      <td>64</td>\n",
       "      <td>67</td>\n",
       "      <td>72</td>\n",
       "      <td>57</td>\n",
       "      <td>66</td>\n",
       "      <td>0</td>\n",
       "      <td>0</td>\n",
       "      <td>0</td>\n",
       "      <td>0</td>\n",
       "      <td>0</td>\n",
       "      <td>0</td>\n",
       "    </tr>\n",
       "    <tr>\n",
       "      <th>5</th>\n",
       "      <td>100329</td>\n",
       "      <td>Abdoulaye Faye</td>\n",
       "      <td>72</td>\n",
       "      <td>D</td>\n",
       "      <td>187</td>\n",
       "      <td>Right</td>\n",
       "      <td>1</td>\n",
       "      <td>50</td>\n",
       "      <td>37</td>\n",
       "      <td>47</td>\n",
       "      <td>43</td>\n",
       "      <td>76</td>\n",
       "      <td>82</td>\n",
       "      <td>0</td>\n",
       "      <td>0</td>\n",
       "      <td>0</td>\n",
       "      <td>0</td>\n",
       "      <td>0</td>\n",
       "      <td>0</td>\n",
       "    </tr>\n",
       "  </tbody>\n",
       "</table>\n",
       "</div>"
      ],
      "text/plain": [
       "       id                     name  rating position  height    foot  rare  \\\n",
       "1  100143             Frederik Boi      65        M     184   Right     0   \n",
       "2  100264          Tomasz Szewczuk      57        A     185   Right     0   \n",
       "3  100325   Steeve Joseph-Reinette      63        D     180    Left     0   \n",
       "4  100326             Kamel Chafni      72        M     181   Right     0   \n",
       "5  100329           Abdoulaye Faye      72        D     187   Right     1   \n",
       "\n",
       "   pace  shooting  passing  dribbling  defending  heading  diving  handling  \\\n",
       "1    61        65       63         59         62       62       0         0   \n",
       "2    65        54       43         53         55       74       0         0   \n",
       "3    68        38       51         46         64       71       0         0   \n",
       "4    75        64       67         72         57       66       0         0   \n",
       "5    50        37       47         43         76       82       0         0   \n",
       "\n",
       "   kicking  reflexes  speed  positioning  \n",
       "1        0         0      0            0  \n",
       "2        0         0      0            0  \n",
       "3        0         0      0            0  \n",
       "4        0         0      0            0  \n",
       "5        0         0      0            0  "
      ]
     },
     "execution_count": 32,
     "metadata": {},
     "output_type": "execute_result"
    }
   ],
   "source": [
    "#write code here\n",
    "df_players= dffifa[dffifa['position'] != 'GK']\n",
    "df_players.head()"
   ]
  },
  {
   "cell_type": "markdown",
   "metadata": {},
   "source": [
    "**vi. Dataframe of other players must contain the following columns 'id', 'name', 'rating', 'position', 'height', 'foot', 'rare',  'pace', 'shooting', 'passing', 'dribbling', 'defending', 'heading'** <br>\n",
    "**Drop all the other columns**"
   ]
  },
  {
   "cell_type": "code",
   "execution_count": 33,
   "metadata": {},
   "outputs": [
    {
     "name": "stderr",
     "output_type": "stream",
     "text": [
      "C:\\Users\\Enviro Global\\AppData\\Local\\Temp\\ipykernel_10632\\2035960543.py:2: SettingWithCopyWarning: \n",
      "A value is trying to be set on a copy of a slice from a DataFrame\n",
      "\n",
      "See the caveats in the documentation: https://pandas.pydata.org/pandas-docs/stable/user_guide/indexing.html#returning-a-view-versus-a-copy\n",
      "  df_players.drop(df_players.iloc[:, 13:], inplace = True, axis =1)\n"
     ]
    }
   ],
   "source": [
    "#write code here\n",
    "df_players.drop(df_players.iloc[:, 13:], inplace = True, axis =1)"
   ]
  },
  {
   "cell_type": "code",
   "execution_count": 34,
   "metadata": {},
   "outputs": [
    {
     "data": {
      "text/plain": [
       "Index(['id', 'name', 'rating', 'position', 'height', 'foot', 'rare', 'pace',\n",
       "       'shooting', 'passing', 'dribbling', 'defending', 'heading'],\n",
       "      dtype='object')"
      ]
     },
     "execution_count": 34,
     "metadata": {},
     "output_type": "execute_result"
    }
   ],
   "source": [
    "#write code here\n",
    "df_players.columns"
   ]
  },
  {
   "cell_type": "markdown",
   "metadata": {},
   "source": [
    "**vii. Find shape of both the datasets**"
   ]
  },
  {
   "cell_type": "code",
   "execution_count": 35,
   "metadata": {},
   "outputs": [
    {
     "data": {
      "text/plain": [
       "(930, 13)"
      ]
     },
     "execution_count": 35,
     "metadata": {},
     "output_type": "execute_result"
    }
   ],
   "source": [
    "#Write Your Code Here\n",
    "df_goalkeeper.shape"
   ]
  },
  {
   "cell_type": "code",
   "execution_count": 36,
   "metadata": {},
   "outputs": [
    {
     "data": {
      "text/plain": [
       "(7917, 13)"
      ]
     },
     "execution_count": 36,
     "metadata": {},
     "output_type": "execute_result"
    }
   ],
   "source": [
    "#write code here\n",
    "df_players.shape"
   ]
  },
  {
   "cell_type": "markdown",
   "metadata": {},
   "source": [
    "**viii. Check head of both the splited dataframe**"
   ]
  },
  {
   "cell_type": "code",
   "execution_count": 37,
   "metadata": {},
   "outputs": [
    {
     "data": {
      "text/html": [
       "<div>\n",
       "<style scoped>\n",
       "    .dataframe tbody tr th:only-of-type {\n",
       "        vertical-align: middle;\n",
       "    }\n",
       "\n",
       "    .dataframe tbody tr th {\n",
       "        vertical-align: top;\n",
       "    }\n",
       "\n",
       "    .dataframe thead th {\n",
       "        text-align: right;\n",
       "    }\n",
       "</style>\n",
       "<table border=\"1\" class=\"dataframe\">\n",
       "  <thead>\n",
       "    <tr style=\"text-align: right;\">\n",
       "      <th></th>\n",
       "      <th>id</th>\n",
       "      <th>name</th>\n",
       "      <th>rating</th>\n",
       "      <th>position</th>\n",
       "      <th>height</th>\n",
       "      <th>foot</th>\n",
       "      <th>rare</th>\n",
       "      <th>diving</th>\n",
       "      <th>handling</th>\n",
       "      <th>kicking</th>\n",
       "      <th>reflexes</th>\n",
       "      <th>speed</th>\n",
       "      <th>positioning</th>\n",
       "    </tr>\n",
       "  </thead>\n",
       "  <tbody>\n",
       "    <tr>\n",
       "      <th>0</th>\n",
       "      <td>1001</td>\n",
       "      <td>Gábor Király</td>\n",
       "      <td>69</td>\n",
       "      <td>GK</td>\n",
       "      <td>191</td>\n",
       "      <td>Right</td>\n",
       "      <td>0</td>\n",
       "      <td>70</td>\n",
       "      <td>66</td>\n",
       "      <td>63</td>\n",
       "      <td>74</td>\n",
       "      <td>35</td>\n",
       "      <td>66</td>\n",
       "    </tr>\n",
       "    <tr>\n",
       "      <th>20</th>\n",
       "      <td>100745</td>\n",
       "      <td>Paul Smith</td>\n",
       "      <td>64</td>\n",
       "      <td>GK</td>\n",
       "      <td>193</td>\n",
       "      <td>Right</td>\n",
       "      <td>1</td>\n",
       "      <td>65</td>\n",
       "      <td>62</td>\n",
       "      <td>55</td>\n",
       "      <td>67</td>\n",
       "      <td>41</td>\n",
       "      <td>62</td>\n",
       "    </tr>\n",
       "    <tr>\n",
       "      <th>29</th>\n",
       "      <td>100807</td>\n",
       "      <td>Stefanos Kotsolis</td>\n",
       "      <td>65</td>\n",
       "      <td>GK</td>\n",
       "      <td>190</td>\n",
       "      <td>Right</td>\n",
       "      <td>0</td>\n",
       "      <td>62</td>\n",
       "      <td>68</td>\n",
       "      <td>62</td>\n",
       "      <td>65</td>\n",
       "      <td>60</td>\n",
       "      <td>64</td>\n",
       "    </tr>\n",
       "    <tr>\n",
       "      <th>31</th>\n",
       "      <td>100899</td>\n",
       "      <td>Steve Phillips</td>\n",
       "      <td>61</td>\n",
       "      <td>GK</td>\n",
       "      <td>185</td>\n",
       "      <td>Right</td>\n",
       "      <td>1</td>\n",
       "      <td>46</td>\n",
       "      <td>65</td>\n",
       "      <td>76</td>\n",
       "      <td>71</td>\n",
       "      <td>31</td>\n",
       "      <td>61</td>\n",
       "    </tr>\n",
       "    <tr>\n",
       "      <th>39</th>\n",
       "      <td>101282</td>\n",
       "      <td>Oka Nikolov</td>\n",
       "      <td>70</td>\n",
       "      <td>GK</td>\n",
       "      <td>188</td>\n",
       "      <td>Right</td>\n",
       "      <td>0</td>\n",
       "      <td>72</td>\n",
       "      <td>64</td>\n",
       "      <td>59</td>\n",
       "      <td>73</td>\n",
       "      <td>61</td>\n",
       "      <td>73</td>\n",
       "    </tr>\n",
       "  </tbody>\n",
       "</table>\n",
       "</div>"
      ],
      "text/plain": [
       "        id                name  rating position  height    foot  rare  diving  \\\n",
       "0     1001        Gábor Király      69       GK     191   Right     0      70   \n",
       "20  100745          Paul Smith      64       GK     193   Right     1      65   \n",
       "29  100807   Stefanos Kotsolis      65       GK     190   Right     0      62   \n",
       "31  100899      Steve Phillips      61       GK     185   Right     1      46   \n",
       "39  101282         Oka Nikolov      70       GK     188   Right     0      72   \n",
       "\n",
       "    handling  kicking  reflexes  speed  positioning  \n",
       "0         66       63        74     35           66  \n",
       "20        62       55        67     41           62  \n",
       "29        68       62        65     60           64  \n",
       "31        65       76        71     31           61  \n",
       "39        64       59        73     61           73  "
      ]
     },
     "execution_count": 37,
     "metadata": {},
     "output_type": "execute_result"
    }
   ],
   "source": [
    "#Write Your Code Here\n",
    "df_goalkeeper.head()"
   ]
  },
  {
   "cell_type": "code",
   "execution_count": 38,
   "metadata": {
    "scrolled": true
   },
   "outputs": [
    {
     "data": {
      "text/html": [
       "<div>\n",
       "<style scoped>\n",
       "    .dataframe tbody tr th:only-of-type {\n",
       "        vertical-align: middle;\n",
       "    }\n",
       "\n",
       "    .dataframe tbody tr th {\n",
       "        vertical-align: top;\n",
       "    }\n",
       "\n",
       "    .dataframe thead th {\n",
       "        text-align: right;\n",
       "    }\n",
       "</style>\n",
       "<table border=\"1\" class=\"dataframe\">\n",
       "  <thead>\n",
       "    <tr style=\"text-align: right;\">\n",
       "      <th></th>\n",
       "      <th>id</th>\n",
       "      <th>name</th>\n",
       "      <th>rating</th>\n",
       "      <th>position</th>\n",
       "      <th>height</th>\n",
       "      <th>foot</th>\n",
       "      <th>rare</th>\n",
       "      <th>pace</th>\n",
       "      <th>shooting</th>\n",
       "      <th>passing</th>\n",
       "      <th>dribbling</th>\n",
       "      <th>defending</th>\n",
       "      <th>heading</th>\n",
       "    </tr>\n",
       "  </thead>\n",
       "  <tbody>\n",
       "    <tr>\n",
       "      <th>1</th>\n",
       "      <td>100143</td>\n",
       "      <td>Frederik Boi</td>\n",
       "      <td>65</td>\n",
       "      <td>M</td>\n",
       "      <td>184</td>\n",
       "      <td>Right</td>\n",
       "      <td>0</td>\n",
       "      <td>61</td>\n",
       "      <td>65</td>\n",
       "      <td>63</td>\n",
       "      <td>59</td>\n",
       "      <td>62</td>\n",
       "      <td>62</td>\n",
       "    </tr>\n",
       "    <tr>\n",
       "      <th>2</th>\n",
       "      <td>100264</td>\n",
       "      <td>Tomasz Szewczuk</td>\n",
       "      <td>57</td>\n",
       "      <td>A</td>\n",
       "      <td>185</td>\n",
       "      <td>Right</td>\n",
       "      <td>0</td>\n",
       "      <td>65</td>\n",
       "      <td>54</td>\n",
       "      <td>43</td>\n",
       "      <td>53</td>\n",
       "      <td>55</td>\n",
       "      <td>74</td>\n",
       "    </tr>\n",
       "    <tr>\n",
       "      <th>3</th>\n",
       "      <td>100325</td>\n",
       "      <td>Steeve Joseph-Reinette</td>\n",
       "      <td>63</td>\n",
       "      <td>D</td>\n",
       "      <td>180</td>\n",
       "      <td>Left</td>\n",
       "      <td>0</td>\n",
       "      <td>68</td>\n",
       "      <td>38</td>\n",
       "      <td>51</td>\n",
       "      <td>46</td>\n",
       "      <td>64</td>\n",
       "      <td>71</td>\n",
       "    </tr>\n",
       "    <tr>\n",
       "      <th>4</th>\n",
       "      <td>100326</td>\n",
       "      <td>Kamel Chafni</td>\n",
       "      <td>72</td>\n",
       "      <td>M</td>\n",
       "      <td>181</td>\n",
       "      <td>Right</td>\n",
       "      <td>0</td>\n",
       "      <td>75</td>\n",
       "      <td>64</td>\n",
       "      <td>67</td>\n",
       "      <td>72</td>\n",
       "      <td>57</td>\n",
       "      <td>66</td>\n",
       "    </tr>\n",
       "    <tr>\n",
       "      <th>5</th>\n",
       "      <td>100329</td>\n",
       "      <td>Abdoulaye Faye</td>\n",
       "      <td>72</td>\n",
       "      <td>D</td>\n",
       "      <td>187</td>\n",
       "      <td>Right</td>\n",
       "      <td>1</td>\n",
       "      <td>50</td>\n",
       "      <td>37</td>\n",
       "      <td>47</td>\n",
       "      <td>43</td>\n",
       "      <td>76</td>\n",
       "      <td>82</td>\n",
       "    </tr>\n",
       "  </tbody>\n",
       "</table>\n",
       "</div>"
      ],
      "text/plain": [
       "       id                     name  rating position  height    foot  rare  \\\n",
       "1  100143             Frederik Boi      65        M     184   Right     0   \n",
       "2  100264          Tomasz Szewczuk      57        A     185   Right     0   \n",
       "3  100325   Steeve Joseph-Reinette      63        D     180    Left     0   \n",
       "4  100326             Kamel Chafni      72        M     181   Right     0   \n",
       "5  100329           Abdoulaye Faye      72        D     187   Right     1   \n",
       "\n",
       "   pace  shooting  passing  dribbling  defending  heading  \n",
       "1    61        65       63         59         62       62  \n",
       "2    65        54       43         53         55       74  \n",
       "3    68        38       51         46         64       71  \n",
       "4    75        64       67         72         57       66  \n",
       "5    50        37       47         43         76       82  "
      ]
     },
     "execution_count": 38,
     "metadata": {},
     "output_type": "execute_result"
    }
   ],
   "source": [
    "#Write Your Code Here\n",
    "df_players.head()"
   ]
  },
  {
   "cell_type": "markdown",
   "metadata": {},
   "source": [
    "**ix. Show the summary stats of both the datasets**"
   ]
  },
  {
   "cell_type": "code",
   "execution_count": 39,
   "metadata": {},
   "outputs": [
    {
     "data": {
      "text/html": [
       "<div>\n",
       "<style scoped>\n",
       "    .dataframe tbody tr th:only-of-type {\n",
       "        vertical-align: middle;\n",
       "    }\n",
       "\n",
       "    .dataframe tbody tr th {\n",
       "        vertical-align: top;\n",
       "    }\n",
       "\n",
       "    .dataframe thead th {\n",
       "        text-align: right;\n",
       "    }\n",
       "</style>\n",
       "<table border=\"1\" class=\"dataframe\">\n",
       "  <thead>\n",
       "    <tr style=\"text-align: right;\">\n",
       "      <th></th>\n",
       "      <th>id</th>\n",
       "      <th>rating</th>\n",
       "      <th>height</th>\n",
       "      <th>rare</th>\n",
       "      <th>diving</th>\n",
       "      <th>handling</th>\n",
       "      <th>kicking</th>\n",
       "      <th>reflexes</th>\n",
       "      <th>speed</th>\n",
       "      <th>positioning</th>\n",
       "    </tr>\n",
       "  </thead>\n",
       "  <tbody>\n",
       "    <tr>\n",
       "      <th>count</th>\n",
       "      <td>930.000000</td>\n",
       "      <td>930.00000</td>\n",
       "      <td>930.000000</td>\n",
       "      <td>930.000000</td>\n",
       "      <td>930.000000</td>\n",
       "      <td>930.000000</td>\n",
       "      <td>930.000000</td>\n",
       "      <td>930.000000</td>\n",
       "      <td>930.000000</td>\n",
       "      <td>930.000000</td>\n",
       "    </tr>\n",
       "    <tr>\n",
       "      <th>mean</th>\n",
       "      <td>144009.048387</td>\n",
       "      <td>65.91828</td>\n",
       "      <td>188.233333</td>\n",
       "      <td>0.345161</td>\n",
       "      <td>67.351613</td>\n",
       "      <td>64.739785</td>\n",
       "      <td>63.067742</td>\n",
       "      <td>68.865591</td>\n",
       "      <td>48.212903</td>\n",
       "      <td>64.955914</td>\n",
       "    </tr>\n",
       "    <tr>\n",
       "      <th>std</th>\n",
       "      <td>58295.056991</td>\n",
       "      <td>7.67349</td>\n",
       "      <td>4.701690</td>\n",
       "      <td>0.475677</td>\n",
       "      <td>8.311224</td>\n",
       "      <td>8.073867</td>\n",
       "      <td>8.653150</td>\n",
       "      <td>8.546599</td>\n",
       "      <td>10.330171</td>\n",
       "      <td>8.854231</td>\n",
       "    </tr>\n",
       "    <tr>\n",
       "      <th>min</th>\n",
       "      <td>6.000000</td>\n",
       "      <td>40.00000</td>\n",
       "      <td>173.000000</td>\n",
       "      <td>0.000000</td>\n",
       "      <td>30.000000</td>\n",
       "      <td>39.000000</td>\n",
       "      <td>30.000000</td>\n",
       "      <td>32.000000</td>\n",
       "      <td>14.000000</td>\n",
       "      <td>37.000000</td>\n",
       "    </tr>\n",
       "    <tr>\n",
       "      <th>25%</th>\n",
       "      <td>134631.750000</td>\n",
       "      <td>61.00000</td>\n",
       "      <td>185.000000</td>\n",
       "      <td>0.000000</td>\n",
       "      <td>62.000000</td>\n",
       "      <td>60.000000</td>\n",
       "      <td>57.000000</td>\n",
       "      <td>63.000000</td>\n",
       "      <td>42.000000</td>\n",
       "      <td>59.000000</td>\n",
       "    </tr>\n",
       "    <tr>\n",
       "      <th>50%</th>\n",
       "      <td>163614.500000</td>\n",
       "      <td>66.00000</td>\n",
       "      <td>188.000000</td>\n",
       "      <td>0.000000</td>\n",
       "      <td>67.000000</td>\n",
       "      <td>65.000000</td>\n",
       "      <td>63.000000</td>\n",
       "      <td>69.000000</td>\n",
       "      <td>50.000000</td>\n",
       "      <td>65.000000</td>\n",
       "    </tr>\n",
       "    <tr>\n",
       "      <th>75%</th>\n",
       "      <td>186381.750000</td>\n",
       "      <td>71.00000</td>\n",
       "      <td>191.000000</td>\n",
       "      <td>1.000000</td>\n",
       "      <td>73.000000</td>\n",
       "      <td>70.000000</td>\n",
       "      <td>69.000000</td>\n",
       "      <td>74.000000</td>\n",
       "      <td>56.000000</td>\n",
       "      <td>71.000000</td>\n",
       "    </tr>\n",
       "    <tr>\n",
       "      <th>max</th>\n",
       "      <td>205409.000000</td>\n",
       "      <td>89.00000</td>\n",
       "      <td>208.000000</td>\n",
       "      <td>1.000000</td>\n",
       "      <td>91.000000</td>\n",
       "      <td>86.000000</td>\n",
       "      <td>94.000000</td>\n",
       "      <td>93.000000</td>\n",
       "      <td>73.000000</td>\n",
       "      <td>91.000000</td>\n",
       "    </tr>\n",
       "  </tbody>\n",
       "</table>\n",
       "</div>"
      ],
      "text/plain": [
       "                  id     rating      height        rare      diving  \\\n",
       "count     930.000000  930.00000  930.000000  930.000000  930.000000   \n",
       "mean   144009.048387   65.91828  188.233333    0.345161   67.351613   \n",
       "std     58295.056991    7.67349    4.701690    0.475677    8.311224   \n",
       "min         6.000000   40.00000  173.000000    0.000000   30.000000   \n",
       "25%    134631.750000   61.00000  185.000000    0.000000   62.000000   \n",
       "50%    163614.500000   66.00000  188.000000    0.000000   67.000000   \n",
       "75%    186381.750000   71.00000  191.000000    1.000000   73.000000   \n",
       "max    205409.000000   89.00000  208.000000    1.000000   91.000000   \n",
       "\n",
       "         handling     kicking    reflexes       speed  positioning  \n",
       "count  930.000000  930.000000  930.000000  930.000000   930.000000  \n",
       "mean    64.739785   63.067742   68.865591   48.212903    64.955914  \n",
       "std      8.073867    8.653150    8.546599   10.330171     8.854231  \n",
       "min     39.000000   30.000000   32.000000   14.000000    37.000000  \n",
       "25%     60.000000   57.000000   63.000000   42.000000    59.000000  \n",
       "50%     65.000000   63.000000   69.000000   50.000000    65.000000  \n",
       "75%     70.000000   69.000000   74.000000   56.000000    71.000000  \n",
       "max     86.000000   94.000000   93.000000   73.000000    91.000000  "
      ]
     },
     "execution_count": 39,
     "metadata": {},
     "output_type": "execute_result"
    }
   ],
   "source": [
    "#Write Your Code Here for summary stats of goal keeper\n",
    "df_goalkeeper.describe()"
   ]
  },
  {
   "cell_type": "markdown",
   "metadata": {},
   "source": [
    "### Question: What do you understand from the summary statistics of goal keeper?"
   ]
  },
  {
   "cell_type": "markdown",
   "metadata": {},
   "source": [
    "### Answer:"
   ]
  },
  {
   "cell_type": "markdown",
   "metadata": {},
   "source": [
    "1) There is a total of 930 (count) goalkeepers\n",
    "2) A goalkeeper should indeed possess good characteristics in terms of height, diving, kicking, reflexes, speed and positioning."
   ]
  },
  {
   "cell_type": "code",
   "execution_count": 40,
   "metadata": {},
   "outputs": [
    {
     "data": {
      "text/html": [
       "<div>\n",
       "<style scoped>\n",
       "    .dataframe tbody tr th:only-of-type {\n",
       "        vertical-align: middle;\n",
       "    }\n",
       "\n",
       "    .dataframe tbody tr th {\n",
       "        vertical-align: top;\n",
       "    }\n",
       "\n",
       "    .dataframe thead th {\n",
       "        text-align: right;\n",
       "    }\n",
       "</style>\n",
       "<table border=\"1\" class=\"dataframe\">\n",
       "  <thead>\n",
       "    <tr style=\"text-align: right;\">\n",
       "      <th></th>\n",
       "      <th>id</th>\n",
       "      <th>rating</th>\n",
       "      <th>height</th>\n",
       "      <th>rare</th>\n",
       "      <th>pace</th>\n",
       "      <th>shooting</th>\n",
       "      <th>passing</th>\n",
       "      <th>dribbling</th>\n",
       "      <th>defending</th>\n",
       "      <th>heading</th>\n",
       "    </tr>\n",
       "  </thead>\n",
       "  <tbody>\n",
       "    <tr>\n",
       "      <th>count</th>\n",
       "      <td>7917.000000</td>\n",
       "      <td>7917.000000</td>\n",
       "      <td>7917.000000</td>\n",
       "      <td>7917.000000</td>\n",
       "      <td>7917.000000</td>\n",
       "      <td>7917.000000</td>\n",
       "      <td>7917.000000</td>\n",
       "      <td>7917.000000</td>\n",
       "      <td>7917.000000</td>\n",
       "      <td>7917.000000</td>\n",
       "    </tr>\n",
       "    <tr>\n",
       "      <th>mean</th>\n",
       "      <td>153315.875205</td>\n",
       "      <td>66.769989</td>\n",
       "      <td>180.988885</td>\n",
       "      <td>0.354048</td>\n",
       "      <td>67.934066</td>\n",
       "      <td>55.054440</td>\n",
       "      <td>58.845522</td>\n",
       "      <td>61.193887</td>\n",
       "      <td>60.339523</td>\n",
       "      <td>63.743337</td>\n",
       "    </tr>\n",
       "    <tr>\n",
       "      <th>std</th>\n",
       "      <td>53963.758068</td>\n",
       "      <td>7.077355</td>\n",
       "      <td>6.200081</td>\n",
       "      <td>0.478254</td>\n",
       "      <td>11.169316</td>\n",
       "      <td>13.136116</td>\n",
       "      <td>10.962049</td>\n",
       "      <td>12.255261</td>\n",
       "      <td>10.622997</td>\n",
       "      <td>8.982680</td>\n",
       "    </tr>\n",
       "    <tr>\n",
       "      <th>min</th>\n",
       "      <td>2.000000</td>\n",
       "      <td>41.000000</td>\n",
       "      <td>158.000000</td>\n",
       "      <td>0.000000</td>\n",
       "      <td>24.000000</td>\n",
       "      <td>12.000000</td>\n",
       "      <td>13.000000</td>\n",
       "      <td>19.000000</td>\n",
       "      <td>26.000000</td>\n",
       "      <td>22.000000</td>\n",
       "    </tr>\n",
       "    <tr>\n",
       "      <th>25%</th>\n",
       "      <td>141099.000000</td>\n",
       "      <td>62.000000</td>\n",
       "      <td>177.000000</td>\n",
       "      <td>0.000000</td>\n",
       "      <td>62.000000</td>\n",
       "      <td>47.000000</td>\n",
       "      <td>52.000000</td>\n",
       "      <td>54.000000</td>\n",
       "      <td>52.000000</td>\n",
       "      <td>58.000000</td>\n",
       "    </tr>\n",
       "    <tr>\n",
       "      <th>50%</th>\n",
       "      <td>172252.000000</td>\n",
       "      <td>66.000000</td>\n",
       "      <td>181.000000</td>\n",
       "      <td>0.000000</td>\n",
       "      <td>69.000000</td>\n",
       "      <td>57.000000</td>\n",
       "      <td>60.000000</td>\n",
       "      <td>63.000000</td>\n",
       "      <td>61.000000</td>\n",
       "      <td>64.000000</td>\n",
       "    </tr>\n",
       "    <tr>\n",
       "      <th>75%</th>\n",
       "      <td>189390.000000</td>\n",
       "      <td>72.000000</td>\n",
       "      <td>185.000000</td>\n",
       "      <td>1.000000</td>\n",
       "      <td>75.000000</td>\n",
       "      <td>65.000000</td>\n",
       "      <td>66.000000</td>\n",
       "      <td>70.000000</td>\n",
       "      <td>68.000000</td>\n",
       "      <td>70.000000</td>\n",
       "    </tr>\n",
       "    <tr>\n",
       "      <th>max</th>\n",
       "      <td>205583.000000</td>\n",
       "      <td>94.000000</td>\n",
       "      <td>203.000000</td>\n",
       "      <td>1.000000</td>\n",
       "      <td>96.000000</td>\n",
       "      <td>90.000000</td>\n",
       "      <td>92.000000</td>\n",
       "      <td>97.000000</td>\n",
       "      <td>89.000000</td>\n",
       "      <td>91.000000</td>\n",
       "    </tr>\n",
       "  </tbody>\n",
       "</table>\n",
       "</div>"
      ],
      "text/plain": [
       "                  id       rating       height         rare         pace  \\\n",
       "count    7917.000000  7917.000000  7917.000000  7917.000000  7917.000000   \n",
       "mean   153315.875205    66.769989   180.988885     0.354048    67.934066   \n",
       "std     53963.758068     7.077355     6.200081     0.478254    11.169316   \n",
       "min         2.000000    41.000000   158.000000     0.000000    24.000000   \n",
       "25%    141099.000000    62.000000   177.000000     0.000000    62.000000   \n",
       "50%    172252.000000    66.000000   181.000000     0.000000    69.000000   \n",
       "75%    189390.000000    72.000000   185.000000     1.000000    75.000000   \n",
       "max    205583.000000    94.000000   203.000000     1.000000    96.000000   \n",
       "\n",
       "          shooting      passing    dribbling    defending      heading  \n",
       "count  7917.000000  7917.000000  7917.000000  7917.000000  7917.000000  \n",
       "mean     55.054440    58.845522    61.193887    60.339523    63.743337  \n",
       "std      13.136116    10.962049    12.255261    10.622997     8.982680  \n",
       "min      12.000000    13.000000    19.000000    26.000000    22.000000  \n",
       "25%      47.000000    52.000000    54.000000    52.000000    58.000000  \n",
       "50%      57.000000    60.000000    63.000000    61.000000    64.000000  \n",
       "75%      65.000000    66.000000    70.000000    68.000000    70.000000  \n",
       "max      90.000000    92.000000    97.000000    89.000000    91.000000  "
      ]
     },
     "execution_count": 40,
     "metadata": {},
     "output_type": "execute_result"
    }
   ],
   "source": [
    "#Write Your Code Here for summary stats of players\n",
    "df_players.describe()"
   ]
  },
  {
   "cell_type": "markdown",
   "metadata": {},
   "source": [
    "### Question: What do you understand from the summary statistics of other players?"
   ]
  },
  {
   "cell_type": "markdown",
   "metadata": {},
   "source": [
    "### Answer:"
   ]
  },
  {
   "cell_type": "markdown",
   "metadata": {},
   "source": [
    "1) There is a total of 7917 (count) players other than the goalkeeper\n",
    "2) Dribbling among others is one of the most important characteristics of being a football player."
   ]
  },
  {
   "cell_type": "markdown",
   "metadata": {},
   "source": [
    "### Task 5: Group By and Pivoting "
   ]
  },
  {
   "cell_type": "markdown",
   "metadata": {},
   "source": [
    "**i. Display averages of each columns according the players' positions**"
   ]
  },
  {
   "cell_type": "code",
   "execution_count": 41,
   "metadata": {},
   "outputs": [
    {
     "data": {
      "text/plain": [
       "Index(['id', 'name', 'rating', 'position', 'height', 'foot', 'rare', 'pace',\n",
       "       'shooting', 'passing', 'dribbling', 'defending', 'heading', 'diving',\n",
       "       'handling', 'kicking', 'reflexes', 'speed', 'positioning'],\n",
       "      dtype='object')"
      ]
     },
     "execution_count": 41,
     "metadata": {},
     "output_type": "execute_result"
    }
   ],
   "source": [
    "dffifa.columns"
   ]
  },
  {
   "cell_type": "code",
   "execution_count": 42,
   "metadata": {},
   "outputs": [
    {
     "data": {
      "text/html": [
       "<div>\n",
       "<style scoped>\n",
       "    .dataframe tbody tr th:only-of-type {\n",
       "        vertical-align: middle;\n",
       "    }\n",
       "\n",
       "    .dataframe tbody tr th {\n",
       "        vertical-align: top;\n",
       "    }\n",
       "\n",
       "    .dataframe thead th {\n",
       "        text-align: right;\n",
       "    }\n",
       "</style>\n",
       "<table border=\"1\" class=\"dataframe\">\n",
       "  <thead>\n",
       "    <tr style=\"text-align: right;\">\n",
       "      <th></th>\n",
       "      <th>rating</th>\n",
       "      <th>height</th>\n",
       "      <th>rare</th>\n",
       "      <th>pace</th>\n",
       "      <th>shooting</th>\n",
       "      <th>passing</th>\n",
       "      <th>dribbling</th>\n",
       "      <th>defending</th>\n",
       "      <th>heading</th>\n",
       "      <th>diving</th>\n",
       "      <th>handling</th>\n",
       "      <th>kicking</th>\n",
       "      <th>reflexes</th>\n",
       "      <th>speed</th>\n",
       "      <th>positioning</th>\n",
       "    </tr>\n",
       "    <tr>\n",
       "      <th>position</th>\n",
       "      <th></th>\n",
       "      <th></th>\n",
       "      <th></th>\n",
       "      <th></th>\n",
       "      <th></th>\n",
       "      <th></th>\n",
       "      <th></th>\n",
       "      <th></th>\n",
       "      <th></th>\n",
       "      <th></th>\n",
       "      <th></th>\n",
       "      <th></th>\n",
       "      <th></th>\n",
       "      <th></th>\n",
       "      <th></th>\n",
       "    </tr>\n",
       "  </thead>\n",
       "  <tbody>\n",
       "    <tr>\n",
       "      <th>A</th>\n",
       "      <td>67.260807</td>\n",
       "      <td>180.938521</td>\n",
       "      <td>0.475024</td>\n",
       "      <td>72.488473</td>\n",
       "      <td>63.759846</td>\n",
       "      <td>54.357349</td>\n",
       "      <td>66.664265</td>\n",
       "      <td>50.905860</td>\n",
       "      <td>64.756484</td>\n",
       "      <td>0.000000</td>\n",
       "      <td>0.000000</td>\n",
       "      <td>0.000000</td>\n",
       "      <td>0.000000</td>\n",
       "      <td>0.000000</td>\n",
       "      <td>0.000000</td>\n",
       "    </tr>\n",
       "    <tr>\n",
       "      <th>D</th>\n",
       "      <td>66.059055</td>\n",
       "      <td>183.145669</td>\n",
       "      <td>0.270938</td>\n",
       "      <td>63.930923</td>\n",
       "      <td>43.618110</td>\n",
       "      <td>55.465283</td>\n",
       "      <td>51.836793</td>\n",
       "      <td>68.069435</td>\n",
       "      <td>66.837867</td>\n",
       "      <td>0.000000</td>\n",
       "      <td>0.000000</td>\n",
       "      <td>0.000000</td>\n",
       "      <td>0.000000</td>\n",
       "      <td>0.000000</td>\n",
       "      <td>0.000000</td>\n",
       "    </tr>\n",
       "    <tr>\n",
       "      <th>GK</th>\n",
       "      <td>65.918280</td>\n",
       "      <td>188.233333</td>\n",
       "      <td>0.345161</td>\n",
       "      <td>0.000000</td>\n",
       "      <td>0.000000</td>\n",
       "      <td>0.000000</td>\n",
       "      <td>0.000000</td>\n",
       "      <td>0.000000</td>\n",
       "      <td>0.000000</td>\n",
       "      <td>67.351613</td>\n",
       "      <td>64.739785</td>\n",
       "      <td>63.067742</td>\n",
       "      <td>68.865591</td>\n",
       "      <td>48.212903</td>\n",
       "      <td>64.955914</td>\n",
       "    </tr>\n",
       "    <tr>\n",
       "      <th>M</th>\n",
       "      <td>67.087142</td>\n",
       "      <td>179.041763</td>\n",
       "      <td>0.347583</td>\n",
       "      <td>68.493916</td>\n",
       "      <td>59.601776</td>\n",
       "      <td>65.024005</td>\n",
       "      <td>66.045709</td>\n",
       "      <td>59.696153</td>\n",
       "      <td>60.206511</td>\n",
       "      <td>0.000000</td>\n",
       "      <td>0.000000</td>\n",
       "      <td>0.000000</td>\n",
       "      <td>0.000000</td>\n",
       "      <td>0.000000</td>\n",
       "      <td>0.000000</td>\n",
       "    </tr>\n",
       "  </tbody>\n",
       "</table>\n",
       "</div>"
      ],
      "text/plain": [
       "             rating      height      rare       pace   shooting    passing  \\\n",
       "position                                                                     \n",
       "A         67.260807  180.938521  0.475024  72.488473  63.759846  54.357349   \n",
       "D         66.059055  183.145669  0.270938  63.930923  43.618110  55.465283   \n",
       "GK        65.918280  188.233333  0.345161   0.000000   0.000000   0.000000   \n",
       "M         67.087142  179.041763  0.347583  68.493916  59.601776  65.024005   \n",
       "\n",
       "          dribbling  defending    heading     diving   handling    kicking  \\\n",
       "position                                                                     \n",
       "A         66.664265  50.905860  64.756484   0.000000   0.000000   0.000000   \n",
       "D         51.836793  68.069435  66.837867   0.000000   0.000000   0.000000   \n",
       "GK         0.000000   0.000000   0.000000  67.351613  64.739785  63.067742   \n",
       "M         66.045709  59.696153  60.206511   0.000000   0.000000   0.000000   \n",
       "\n",
       "           reflexes      speed  positioning  \n",
       "position                                     \n",
       "A          0.000000   0.000000     0.000000  \n",
       "D          0.000000   0.000000     0.000000  \n",
       "GK        68.865591  48.212903    64.955914  \n",
       "M          0.000000   0.000000     0.000000  "
      ]
     },
     "execution_count": 42,
     "metadata": {},
     "output_type": "execute_result"
    }
   ],
   "source": [
    "#Write Your Code Here\n",
    "dffifa.groupby('position')[['rating', 'height', 'rare', 'pace','shooting', 'passing', 'dribbling', 'defending', 'heading', 'diving', 'handling', 'kicking', 'reflexes', 'speed', 'positioning']].mean()"
   ]
  },
  {
   "cell_type": "markdown",
   "metadata": {},
   "source": [
    "**ii. Count number of players against each position and foot used by them.**    \n",
    "*Hint: Use Groupby*"
   ]
  },
  {
   "cell_type": "code",
   "execution_count": 43,
   "metadata": {},
   "outputs": [
    {
     "data": {
      "text/html": [
       "<div>\n",
       "<style scoped>\n",
       "    .dataframe tbody tr th:only-of-type {\n",
       "        vertical-align: middle;\n",
       "    }\n",
       "\n",
       "    .dataframe tbody tr th {\n",
       "        vertical-align: top;\n",
       "    }\n",
       "\n",
       "    .dataframe thead th {\n",
       "        text-align: right;\n",
       "    }\n",
       "</style>\n",
       "<table border=\"1\" class=\"dataframe\">\n",
       "  <thead>\n",
       "    <tr style=\"text-align: right;\">\n",
       "      <th></th>\n",
       "      <th>position</th>\n",
       "      <th>foot</th>\n",
       "      <th>no_players</th>\n",
       "    </tr>\n",
       "  </thead>\n",
       "  <tbody>\n",
       "    <tr>\n",
       "      <th>0</th>\n",
       "      <td>A</td>\n",
       "      <td>Left</td>\n",
       "      <td>368</td>\n",
       "    </tr>\n",
       "    <tr>\n",
       "      <th>1</th>\n",
       "      <td>A</td>\n",
       "      <td>Right</td>\n",
       "      <td>1714</td>\n",
       "    </tr>\n",
       "    <tr>\n",
       "      <th>2</th>\n",
       "      <td>D</td>\n",
       "      <td>Left</td>\n",
       "      <td>915</td>\n",
       "    </tr>\n",
       "    <tr>\n",
       "      <th>3</th>\n",
       "      <td>D</td>\n",
       "      <td>Right</td>\n",
       "      <td>1879</td>\n",
       "    </tr>\n",
       "    <tr>\n",
       "      <th>4</th>\n",
       "      <td>M</td>\n",
       "      <td>Left</td>\n",
       "      <td>704</td>\n",
       "    </tr>\n",
       "    <tr>\n",
       "      <th>5</th>\n",
       "      <td>M</td>\n",
       "      <td>Right</td>\n",
       "      <td>2337</td>\n",
       "    </tr>\n",
       "  </tbody>\n",
       "</table>\n",
       "</div>"
      ],
      "text/plain": [
       "  position    foot  no_players\n",
       "0        A    Left         368\n",
       "1        A   Right        1714\n",
       "2        D    Left         915\n",
       "3        D   Right        1879\n",
       "4        M    Left         704\n",
       "5        M   Right        2337"
      ]
     },
     "execution_count": 43,
     "metadata": {},
     "output_type": "execute_result"
    }
   ],
   "source": [
    "#Write Your Code Here\n",
    "#Group By Here\n",
    "df_players.groupby(['position', 'foot'])['foot'].count().reset_index(name='no_players')"
   ]
  },
  {
   "cell_type": "code",
   "execution_count": 44,
   "metadata": {},
   "outputs": [
    {
     "data": {
      "text/html": [
       "<div>\n",
       "<style scoped>\n",
       "    .dataframe tbody tr th:only-of-type {\n",
       "        vertical-align: middle;\n",
       "    }\n",
       "\n",
       "    .dataframe tbody tr th {\n",
       "        vertical-align: top;\n",
       "    }\n",
       "\n",
       "    .dataframe thead th {\n",
       "        text-align: right;\n",
       "    }\n",
       "</style>\n",
       "<table border=\"1\" class=\"dataframe\">\n",
       "  <thead>\n",
       "    <tr style=\"text-align: right;\">\n",
       "      <th></th>\n",
       "      <th>position</th>\n",
       "      <th>foot</th>\n",
       "      <th>no_players</th>\n",
       "    </tr>\n",
       "  </thead>\n",
       "  <tbody>\n",
       "    <tr>\n",
       "      <th>0</th>\n",
       "      <td>A</td>\n",
       "      <td>Left</td>\n",
       "      <td>368</td>\n",
       "    </tr>\n",
       "    <tr>\n",
       "      <th>1</th>\n",
       "      <td>A</td>\n",
       "      <td>Right</td>\n",
       "      <td>1714</td>\n",
       "    </tr>\n",
       "    <tr>\n",
       "      <th>2</th>\n",
       "      <td>D</td>\n",
       "      <td>Left</td>\n",
       "      <td>915</td>\n",
       "    </tr>\n",
       "    <tr>\n",
       "      <th>3</th>\n",
       "      <td>D</td>\n",
       "      <td>Right</td>\n",
       "      <td>1879</td>\n",
       "    </tr>\n",
       "    <tr>\n",
       "      <th>4</th>\n",
       "      <td>GK</td>\n",
       "      <td>Left</td>\n",
       "      <td>98</td>\n",
       "    </tr>\n",
       "    <tr>\n",
       "      <th>5</th>\n",
       "      <td>GK</td>\n",
       "      <td>Right</td>\n",
       "      <td>832</td>\n",
       "    </tr>\n",
       "    <tr>\n",
       "      <th>6</th>\n",
       "      <td>M</td>\n",
       "      <td>Left</td>\n",
       "      <td>704</td>\n",
       "    </tr>\n",
       "    <tr>\n",
       "      <th>7</th>\n",
       "      <td>M</td>\n",
       "      <td>Right</td>\n",
       "      <td>2337</td>\n",
       "    </tr>\n",
       "  </tbody>\n",
       "</table>\n",
       "</div>"
      ],
      "text/plain": [
       "  position    foot  no_players\n",
       "0        A    Left         368\n",
       "1        A   Right        1714\n",
       "2        D    Left         915\n",
       "3        D   Right        1879\n",
       "4       GK    Left          98\n",
       "5       GK   Right         832\n",
       "6        M    Left         704\n",
       "7        M   Right        2337"
      ]
     },
     "execution_count": 44,
     "metadata": {},
     "output_type": "execute_result"
    }
   ],
   "source": [
    "#this includes goalkeeper\n",
    "dffifa.groupby(['position', 'foot'])['foot'].count().reset_index(name='no_players')"
   ]
  },
  {
   "cell_type": "markdown",
   "metadata": {},
   "source": [
    "**iii. Perform grouping on position and foot to find mean, min and max values of rating. Store the result in a variable called 'a'** <br>\n",
    "*Hint: Aggregate(mean,min,max) on rating using .agg() method and nested dictionaries* <br>"
   ]
  },
  {
   "cell_type": "code",
   "execution_count": 45,
   "metadata": {},
   "outputs": [
    {
     "data": {
      "text/html": [
       "<div>\n",
       "<style scoped>\n",
       "    .dataframe tbody tr th:only-of-type {\n",
       "        vertical-align: middle;\n",
       "    }\n",
       "\n",
       "    .dataframe tbody tr th {\n",
       "        vertical-align: top;\n",
       "    }\n",
       "\n",
       "    .dataframe thead tr th {\n",
       "        text-align: left;\n",
       "    }\n",
       "\n",
       "    .dataframe thead tr:last-of-type th {\n",
       "        text-align: right;\n",
       "    }\n",
       "</style>\n",
       "<table border=\"1\" class=\"dataframe\">\n",
       "  <thead>\n",
       "    <tr>\n",
       "      <th></th>\n",
       "      <th></th>\n",
       "      <th colspan=\"3\" halign=\"left\">rating</th>\n",
       "    </tr>\n",
       "    <tr>\n",
       "      <th></th>\n",
       "      <th></th>\n",
       "      <th>mean</th>\n",
       "      <th>min</th>\n",
       "      <th>max</th>\n",
       "    </tr>\n",
       "    <tr>\n",
       "      <th>position</th>\n",
       "      <th>foot</th>\n",
       "      <th></th>\n",
       "      <th></th>\n",
       "      <th></th>\n",
       "    </tr>\n",
       "  </thead>\n",
       "  <tbody>\n",
       "    <tr>\n",
       "      <th rowspan=\"2\" valign=\"top\">A</th>\n",
       "      <th>Left</th>\n",
       "      <td>67.758152</td>\n",
       "      <td>51</td>\n",
       "      <td>94</td>\n",
       "    </tr>\n",
       "    <tr>\n",
       "      <th>Right</th>\n",
       "      <td>67.154026</td>\n",
       "      <td>41</td>\n",
       "      <td>92</td>\n",
       "    </tr>\n",
       "    <tr>\n",
       "      <th rowspan=\"2\" valign=\"top\">D</th>\n",
       "      <th>Left</th>\n",
       "      <td>65.931148</td>\n",
       "      <td>47</td>\n",
       "      <td>85</td>\n",
       "    </tr>\n",
       "    <tr>\n",
       "      <th>Right</th>\n",
       "      <td>66.121341</td>\n",
       "      <td>42</td>\n",
       "      <td>89</td>\n",
       "    </tr>\n",
       "    <tr>\n",
       "      <th rowspan=\"2\" valign=\"top\">M</th>\n",
       "      <th>Left</th>\n",
       "      <td>67.778409</td>\n",
       "      <td>43</td>\n",
       "      <td>90</td>\n",
       "    </tr>\n",
       "    <tr>\n",
       "      <th>Right</th>\n",
       "      <td>66.878905</td>\n",
       "      <td>41</td>\n",
       "      <td>92</td>\n",
       "    </tr>\n",
       "  </tbody>\n",
       "</table>\n",
       "</div>"
      ],
      "text/plain": [
       "                    rating        \n",
       "                      mean min max\n",
       "position foot                     \n",
       "A         Left   67.758152  51  94\n",
       "          Right  67.154026  41  92\n",
       "D         Left   65.931148  47  85\n",
       "          Right  66.121341  42  89\n",
       "M         Left   67.778409  43  90\n",
       "          Right  66.878905  41  92"
      ]
     },
     "execution_count": 45,
     "metadata": {},
     "output_type": "execute_result"
    }
   ],
   "source": [
    "#Write Your Code Here\n",
    "a = df_players.groupby(['position', 'foot']).agg({'rating': ['mean', 'min', 'max']})\n",
    "a"
   ]
  },
  {
   "cell_type": "code",
   "execution_count": 46,
   "metadata": {},
   "outputs": [
    {
     "data": {
      "text/html": [
       "<div>\n",
       "<style scoped>\n",
       "    .dataframe tbody tr th:only-of-type {\n",
       "        vertical-align: middle;\n",
       "    }\n",
       "\n",
       "    .dataframe tbody tr th {\n",
       "        vertical-align: top;\n",
       "    }\n",
       "\n",
       "    .dataframe thead tr th {\n",
       "        text-align: left;\n",
       "    }\n",
       "\n",
       "    .dataframe thead tr:last-of-type th {\n",
       "        text-align: right;\n",
       "    }\n",
       "</style>\n",
       "<table border=\"1\" class=\"dataframe\">\n",
       "  <thead>\n",
       "    <tr>\n",
       "      <th></th>\n",
       "      <th></th>\n",
       "      <th colspan=\"3\" halign=\"left\">rating</th>\n",
       "    </tr>\n",
       "    <tr>\n",
       "      <th></th>\n",
       "      <th></th>\n",
       "      <th>mean</th>\n",
       "      <th>min</th>\n",
       "      <th>max</th>\n",
       "    </tr>\n",
       "    <tr>\n",
       "      <th>position</th>\n",
       "      <th>foot</th>\n",
       "      <th></th>\n",
       "      <th></th>\n",
       "      <th></th>\n",
       "    </tr>\n",
       "  </thead>\n",
       "  <tbody>\n",
       "    <tr>\n",
       "      <th rowspan=\"2\" valign=\"top\">A</th>\n",
       "      <th>Left</th>\n",
       "      <td>67.758152</td>\n",
       "      <td>51</td>\n",
       "      <td>94</td>\n",
       "    </tr>\n",
       "    <tr>\n",
       "      <th>Right</th>\n",
       "      <td>67.154026</td>\n",
       "      <td>41</td>\n",
       "      <td>92</td>\n",
       "    </tr>\n",
       "    <tr>\n",
       "      <th rowspan=\"2\" valign=\"top\">D</th>\n",
       "      <th>Left</th>\n",
       "      <td>65.931148</td>\n",
       "      <td>47</td>\n",
       "      <td>85</td>\n",
       "    </tr>\n",
       "    <tr>\n",
       "      <th>Right</th>\n",
       "      <td>66.121341</td>\n",
       "      <td>42</td>\n",
       "      <td>89</td>\n",
       "    </tr>\n",
       "    <tr>\n",
       "      <th rowspan=\"2\" valign=\"top\">GK</th>\n",
       "      <th>Left</th>\n",
       "      <td>68.102041</td>\n",
       "      <td>52</td>\n",
       "      <td>89</td>\n",
       "    </tr>\n",
       "    <tr>\n",
       "      <th>Right</th>\n",
       "      <td>65.661058</td>\n",
       "      <td>40</td>\n",
       "      <td>86</td>\n",
       "    </tr>\n",
       "    <tr>\n",
       "      <th rowspan=\"2\" valign=\"top\">M</th>\n",
       "      <th>Left</th>\n",
       "      <td>67.778409</td>\n",
       "      <td>43</td>\n",
       "      <td>90</td>\n",
       "    </tr>\n",
       "    <tr>\n",
       "      <th>Right</th>\n",
       "      <td>66.878905</td>\n",
       "      <td>41</td>\n",
       "      <td>92</td>\n",
       "    </tr>\n",
       "  </tbody>\n",
       "</table>\n",
       "</div>"
      ],
      "text/plain": [
       "                    rating        \n",
       "                      mean min max\n",
       "position foot                     \n",
       "A         Left   67.758152  51  94\n",
       "          Right  67.154026  41  92\n",
       "D         Left   65.931148  47  85\n",
       "          Right  66.121341  42  89\n",
       "GK        Left   68.102041  52  89\n",
       "          Right  65.661058  40  86\n",
       "M         Left   67.778409  43  90\n",
       "          Right  66.878905  41  92"
      ]
     },
     "execution_count": 46,
     "metadata": {},
     "output_type": "execute_result"
    }
   ],
   "source": [
    "a1 = dffifa.groupby(['position', 'foot']).agg({'rating': ['mean', 'min', 'max']})\n",
    "a1"
   ]
  },
  {
   "cell_type": "markdown",
   "metadata": {},
   "source": [
    "**iv. Perform \"PIVOTING\" on the dataframe 'df'. The properties should be as following:**<br>\n",
    "*index = ' position'<br>\n",
    "columns = ' foot'<br>\n",
    "values=' rating'<br>\n",
    "aggfunc=['min','mean']*<br>"
   ]
  },
  {
   "cell_type": "code",
   "execution_count": 47,
   "metadata": {},
   "outputs": [
    {
     "data": {
      "text/html": [
       "<div>\n",
       "<style scoped>\n",
       "    .dataframe tbody tr th:only-of-type {\n",
       "        vertical-align: middle;\n",
       "    }\n",
       "\n",
       "    .dataframe tbody tr th {\n",
       "        vertical-align: top;\n",
       "    }\n",
       "\n",
       "    .dataframe thead tr th {\n",
       "        text-align: left;\n",
       "    }\n",
       "\n",
       "    .dataframe thead tr:last-of-type th {\n",
       "        text-align: right;\n",
       "    }\n",
       "</style>\n",
       "<table border=\"1\" class=\"dataframe\">\n",
       "  <thead>\n",
       "    <tr>\n",
       "      <th></th>\n",
       "      <th colspan=\"2\" halign=\"left\">min</th>\n",
       "      <th colspan=\"2\" halign=\"left\">mean</th>\n",
       "    </tr>\n",
       "    <tr>\n",
       "      <th>foot</th>\n",
       "      <th>Left</th>\n",
       "      <th>Right</th>\n",
       "      <th>Left</th>\n",
       "      <th>Right</th>\n",
       "    </tr>\n",
       "    <tr>\n",
       "      <th>position</th>\n",
       "      <th></th>\n",
       "      <th></th>\n",
       "      <th></th>\n",
       "      <th></th>\n",
       "    </tr>\n",
       "  </thead>\n",
       "  <tbody>\n",
       "    <tr>\n",
       "      <th>A</th>\n",
       "      <td>51</td>\n",
       "      <td>41</td>\n",
       "      <td>67.758152</td>\n",
       "      <td>67.154026</td>\n",
       "    </tr>\n",
       "    <tr>\n",
       "      <th>D</th>\n",
       "      <td>47</td>\n",
       "      <td>42</td>\n",
       "      <td>65.931148</td>\n",
       "      <td>66.121341</td>\n",
       "    </tr>\n",
       "    <tr>\n",
       "      <th>M</th>\n",
       "      <td>43</td>\n",
       "      <td>41</td>\n",
       "      <td>67.778409</td>\n",
       "      <td>66.878905</td>\n",
       "    </tr>\n",
       "  </tbody>\n",
       "</table>\n",
       "</div>"
      ],
      "text/plain": [
       "           min              mean           \n",
       "foot      Left  Right       Left      Right\n",
       "position                                   \n",
       "A           51     41  67.758152  67.154026\n",
       "D           47     42  65.931148  66.121341\n",
       "M           43     41  67.778409  66.878905"
      ]
     },
     "execution_count": 47,
     "metadata": {},
     "output_type": "execute_result"
    }
   ],
   "source": [
    "#Write Code Here\n",
    "df = pd.pivot_table(df_players, index = ['position'], columns = ['foot'], values = 'rating', aggfunc=['min', 'mean'])\n",
    "df"
   ]
  },
  {
   "cell_type": "code",
   "execution_count": 48,
   "metadata": {},
   "outputs": [
    {
     "data": {
      "text/html": [
       "<div>\n",
       "<style scoped>\n",
       "    .dataframe tbody tr th:only-of-type {\n",
       "        vertical-align: middle;\n",
       "    }\n",
       "\n",
       "    .dataframe tbody tr th {\n",
       "        vertical-align: top;\n",
       "    }\n",
       "\n",
       "    .dataframe thead tr th {\n",
       "        text-align: left;\n",
       "    }\n",
       "\n",
       "    .dataframe thead tr:last-of-type th {\n",
       "        text-align: right;\n",
       "    }\n",
       "</style>\n",
       "<table border=\"1\" class=\"dataframe\">\n",
       "  <thead>\n",
       "    <tr>\n",
       "      <th></th>\n",
       "      <th colspan=\"2\" halign=\"left\">min</th>\n",
       "      <th colspan=\"2\" halign=\"left\">mean</th>\n",
       "    </tr>\n",
       "    <tr>\n",
       "      <th>foot</th>\n",
       "      <th>Left</th>\n",
       "      <th>Right</th>\n",
       "      <th>Left</th>\n",
       "      <th>Right</th>\n",
       "    </tr>\n",
       "    <tr>\n",
       "      <th>position</th>\n",
       "      <th></th>\n",
       "      <th></th>\n",
       "      <th></th>\n",
       "      <th></th>\n",
       "    </tr>\n",
       "  </thead>\n",
       "  <tbody>\n",
       "    <tr>\n",
       "      <th>A</th>\n",
       "      <td>51</td>\n",
       "      <td>41</td>\n",
       "      <td>67.758152</td>\n",
       "      <td>67.154026</td>\n",
       "    </tr>\n",
       "    <tr>\n",
       "      <th>D</th>\n",
       "      <td>47</td>\n",
       "      <td>42</td>\n",
       "      <td>65.931148</td>\n",
       "      <td>66.121341</td>\n",
       "    </tr>\n",
       "    <tr>\n",
       "      <th>GK</th>\n",
       "      <td>52</td>\n",
       "      <td>40</td>\n",
       "      <td>68.102041</td>\n",
       "      <td>65.661058</td>\n",
       "    </tr>\n",
       "    <tr>\n",
       "      <th>M</th>\n",
       "      <td>43</td>\n",
       "      <td>41</td>\n",
       "      <td>67.778409</td>\n",
       "      <td>66.878905</td>\n",
       "    </tr>\n",
       "  </tbody>\n",
       "</table>\n",
       "</div>"
      ],
      "text/plain": [
       "           min              mean           \n",
       "foot      Left  Right       Left      Right\n",
       "position                                   \n",
       "A           51     41  67.758152  67.154026\n",
       "D           47     42  65.931148  66.121341\n",
       "GK          52     40  68.102041  65.661058\n",
       "M           43     41  67.778409  66.878905"
      ]
     },
     "execution_count": 48,
     "metadata": {},
     "output_type": "execute_result"
    }
   ],
   "source": [
    "#inlcluding Goalkeepers\n",
    "df1 = pd.pivot_table(dffifa, index = ['position'], columns = ['foot'], values = 'rating', aggfunc=['min', 'mean'])\n",
    "df1"
   ]
  },
  {
   "cell_type": "markdown",
   "metadata": {},
   "source": [
    "# Visualization"
   ]
  },
  {
   "cell_type": "markdown",
   "metadata": {},
   "source": [
    "### Task 6: Display total players of each position."
   ]
  },
  {
   "cell_type": "code",
   "execution_count": 49,
   "metadata": {},
   "outputs": [
    {
     "data": {
      "text/html": [
       "<div>\n",
       "<style scoped>\n",
       "    .dataframe tbody tr th:only-of-type {\n",
       "        vertical-align: middle;\n",
       "    }\n",
       "\n",
       "    .dataframe tbody tr th {\n",
       "        vertical-align: top;\n",
       "    }\n",
       "\n",
       "    .dataframe thead th {\n",
       "        text-align: right;\n",
       "    }\n",
       "</style>\n",
       "<table border=\"1\" class=\"dataframe\">\n",
       "  <thead>\n",
       "    <tr style=\"text-align: right;\">\n",
       "      <th></th>\n",
       "      <th>position</th>\n",
       "      <th>players_count</th>\n",
       "    </tr>\n",
       "  </thead>\n",
       "  <tbody>\n",
       "    <tr>\n",
       "      <th>0</th>\n",
       "      <td>M</td>\n",
       "      <td>3041</td>\n",
       "    </tr>\n",
       "    <tr>\n",
       "      <th>1</th>\n",
       "      <td>D</td>\n",
       "      <td>2794</td>\n",
       "    </tr>\n",
       "    <tr>\n",
       "      <th>2</th>\n",
       "      <td>A</td>\n",
       "      <td>2082</td>\n",
       "    </tr>\n",
       "  </tbody>\n",
       "</table>\n",
       "</div>"
      ],
      "text/plain": [
       "  position  players_count\n",
       "0        M           3041\n",
       "1        D           2794\n",
       "2        A           2082"
      ]
     },
     "execution_count": 49,
     "metadata": {},
     "output_type": "execute_result"
    }
   ],
   "source": [
    "#write code here\n",
    "temp_players = df_players['position'].value_counts().reset_index(name='players_count').head()\n",
    "temp_players"
   ]
  },
  {
   "cell_type": "code",
   "execution_count": 50,
   "metadata": {},
   "outputs": [
    {
     "data": {
      "text/html": [
       "<div>\n",
       "<style scoped>\n",
       "    .dataframe tbody tr th:only-of-type {\n",
       "        vertical-align: middle;\n",
       "    }\n",
       "\n",
       "    .dataframe tbody tr th {\n",
       "        vertical-align: top;\n",
       "    }\n",
       "\n",
       "    .dataframe thead th {\n",
       "        text-align: right;\n",
       "    }\n",
       "</style>\n",
       "<table border=\"1\" class=\"dataframe\">\n",
       "  <thead>\n",
       "    <tr style=\"text-align: right;\">\n",
       "      <th></th>\n",
       "      <th>position</th>\n",
       "      <th>players_count</th>\n",
       "    </tr>\n",
       "  </thead>\n",
       "  <tbody>\n",
       "    <tr>\n",
       "      <th>0</th>\n",
       "      <td>M</td>\n",
       "      <td>3041</td>\n",
       "    </tr>\n",
       "    <tr>\n",
       "      <th>1</th>\n",
       "      <td>D</td>\n",
       "      <td>2794</td>\n",
       "    </tr>\n",
       "    <tr>\n",
       "      <th>2</th>\n",
       "      <td>A</td>\n",
       "      <td>2082</td>\n",
       "    </tr>\n",
       "    <tr>\n",
       "      <th>3</th>\n",
       "      <td>GK</td>\n",
       "      <td>930</td>\n",
       "    </tr>\n",
       "  </tbody>\n",
       "</table>\n",
       "</div>"
      ],
      "text/plain": [
       "  position  players_count\n",
       "0        M           3041\n",
       "1        D           2794\n",
       "2        A           2082\n",
       "3       GK            930"
      ]
     },
     "execution_count": 50,
     "metadata": {},
     "output_type": "execute_result"
    }
   ],
   "source": [
    "total_players = dffifa['position'].value_counts().reset_index(name='players_count').head()\n",
    "total_players"
   ]
  },
  {
   "cell_type": "code",
   "execution_count": 51,
   "metadata": {},
   "outputs": [
    {
     "data": {
      "text/plain": [
       "<Axes: xlabel='position', ylabel='count'>"
      ]
     },
     "execution_count": 51,
     "metadata": {},
     "output_type": "execute_result"
    },
    {
     "data": {
      "image/png": "[encoded data removed]",
      "text/plain": [
       "<Figure size 640x480 with 1 Axes>"
      ]
     },
     "metadata": {},
     "output_type": "display_data"
    }
   ],
   "source": [
    "sns.countplot(dffifa, x='position')"
   ]
  },
  {
   "cell_type": "markdown",
   "metadata": {},
   "source": [
    "**Question: What insights do you get from the above plot?**"
   ]
  },
  {
   "cell_type": "markdown",
   "metadata": {},
   "source": [
    "M and D positions are particularly higher than the A position logically because the goal is to have a stronger defense team to enable strategic positioning of those in A position."
   ]
  },
  {
   "cell_type": "markdown",
   "metadata": {},
   "source": [
    "### Task 7:  Show the total number of players for each foot type."
   ]
  },
  {
   "cell_type": "code",
   "execution_count": 52,
   "metadata": {},
   "outputs": [
    {
     "data": {
      "text/html": [
       "<div>\n",
       "<style scoped>\n",
       "    .dataframe tbody tr th:only-of-type {\n",
       "        vertical-align: middle;\n",
       "    }\n",
       "\n",
       "    .dataframe tbody tr th {\n",
       "        vertical-align: top;\n",
       "    }\n",
       "\n",
       "    .dataframe thead th {\n",
       "        text-align: right;\n",
       "    }\n",
       "</style>\n",
       "<table border=\"1\" class=\"dataframe\">\n",
       "  <thead>\n",
       "    <tr style=\"text-align: right;\">\n",
       "      <th></th>\n",
       "      <th>foot</th>\n",
       "      <th>players_count</th>\n",
       "    </tr>\n",
       "  </thead>\n",
       "  <tbody>\n",
       "    <tr>\n",
       "      <th>0</th>\n",
       "      <td>Right</td>\n",
       "      <td>5930</td>\n",
       "    </tr>\n",
       "    <tr>\n",
       "      <th>1</th>\n",
       "      <td>Left</td>\n",
       "      <td>1987</td>\n",
       "    </tr>\n",
       "  </tbody>\n",
       "</table>\n",
       "</div>"
      ],
      "text/plain": [
       "     foot  players_count\n",
       "0   Right           5930\n",
       "1    Left           1987"
      ]
     },
     "execution_count": 52,
     "metadata": {},
     "output_type": "execute_result"
    }
   ],
   "source": [
    "#Write code here\n",
    "temp_foot = df_players['foot'].value_counts().reset_index(name='players_count').head()\n",
    "temp_foot"
   ]
  },
  {
   "cell_type": "code",
   "execution_count": 53,
   "metadata": {},
   "outputs": [
    {
     "data": {
      "text/html": [
       "<div>\n",
       "<style scoped>\n",
       "    .dataframe tbody tr th:only-of-type {\n",
       "        vertical-align: middle;\n",
       "    }\n",
       "\n",
       "    .dataframe tbody tr th {\n",
       "        vertical-align: top;\n",
       "    }\n",
       "\n",
       "    .dataframe thead th {\n",
       "        text-align: right;\n",
       "    }\n",
       "</style>\n",
       "<table border=\"1\" class=\"dataframe\">\n",
       "  <thead>\n",
       "    <tr style=\"text-align: right;\">\n",
       "      <th></th>\n",
       "      <th>foot</th>\n",
       "      <th>players_count</th>\n",
       "    </tr>\n",
       "  </thead>\n",
       "  <tbody>\n",
       "    <tr>\n",
       "      <th>0</th>\n",
       "      <td>Right</td>\n",
       "      <td>6762</td>\n",
       "    </tr>\n",
       "    <tr>\n",
       "      <th>1</th>\n",
       "      <td>Left</td>\n",
       "      <td>2085</td>\n",
       "    </tr>\n",
       "  </tbody>\n",
       "</table>\n",
       "</div>"
      ],
      "text/plain": [
       "     foot  players_count\n",
       "0   Right           6762\n",
       "1    Left           2085"
      ]
     },
     "execution_count": 53,
     "metadata": {},
     "output_type": "execute_result"
    }
   ],
   "source": [
    "#if we include the goalkeepers in the analysis:\n",
    "temp_foot1 = dffifa['foot'].value_counts().reset_index(name='players_count').head()\n",
    "temp_foot1"
   ]
  },
  {
   "cell_type": "markdown",
   "metadata": {},
   "source": [
    "### Task 8. Show 'foot' ditribution per 'rating' using boxplot"
   ]
  },
  {
   "cell_type": "code",
   "execution_count": 54,
   "metadata": {},
   "outputs": [
    {
     "data": {
      "text/plain": [
       "<Axes: xlabel='rating', ylabel='foot'>"
      ]
     },
     "execution_count": 54,
     "metadata": {},
     "output_type": "execute_result"
    },
    {
     "data": {
      "image/png": "[encoded data removed]",
      "text/plain": [
       "<Figure size 640x480 with 1 Axes>"
      ]
     },
     "metadata": {},
     "output_type": "display_data"
    }
   ],
   "source": [
    "#Write code here\n",
    "sns.boxplot(y='foot', x='rating', data=df_players)"
   ]
  },
  {
   "cell_type": "code",
   "execution_count": 55,
   "metadata": {},
   "outputs": [
    {
     "data": {
      "text/plain": [
       "<Axes: xlabel='foot', ylabel='rating'>"
      ]
     },
     "execution_count": 55,
     "metadata": {},
     "output_type": "execute_result"
    },
    {
     "data": {
      "image/png": "[encoded data removed]",
      "text/plain": [
       "<Figure size 640x480 with 1 Axes>"
      ]
     },
     "metadata": {},
     "output_type": "display_data"
    }
   ],
   "source": [
    "sns.boxplot(y='rating', x='foot', data=df_players)"
   ]
  },
  {
   "cell_type": "code",
   "execution_count": 56,
   "metadata": {},
   "outputs": [
    {
     "data": {
      "text/plain": [
       "<Axes: xlabel='foot', ylabel='rating'>"
      ]
     },
     "execution_count": 56,
     "metadata": {},
     "output_type": "execute_result"
    },
    {
     "data": {
      "image/png": "[encoded data removed]",
      "text/plain": [
       "<Figure size 640x480 with 1 Axes>"
      ]
     },
     "metadata": {},
     "output_type": "display_data"
    }
   ],
   "source": [
    "#including goalkeeper\n",
    "sns.boxplot(y='rating', x='foot', data=dffifa)"
   ]
  },
  {
   "cell_type": "markdown",
   "metadata": {},
   "source": [
    "**Question: What does the above box plot show?**"
   ]
  },
  {
   "cell_type": "markdown",
   "metadata": {},
   "source": [
    "The plot above suggests that although the highest rating was achieved by a left footballer, the most number of high ratings were achieved by right foot. There is also a good number or low ratings for right foot."
   ]
  },
  {
   "cell_type": "markdown",
   "metadata": {},
   "source": [
    "### Task 9. Display total number of players for each foot type according to their positions. But the result of each position should be a separate graph yet shown collectively  <br>\n",
    "*Hint: You can use subplots and you can have a separate dataframe for each postion. Sample code fir subplots is given below:*<br>\n",
    "*Sample Code \n",
    "<br>*\n",
    "```\n",
    "fig, ax=plt.subplots(2,2,sharey=True, figsize=(15,8))\n",
    "sns.countplot(x='rating', data=df_goalkeeper, ax=ax[0,0])\n",
    "ax[0,0].set_title('Goal keeper')\n",
    "```"
   ]
  },
  {
   "cell_type": "code",
   "execution_count": 57,
   "metadata": {},
   "outputs": [
    {
     "data": {
      "text/plain": [
       "array(['M', 'A', 'D'], dtype=object)"
      ]
     },
     "execution_count": 57,
     "metadata": {},
     "output_type": "execute_result"
    }
   ],
   "source": [
    "df_players['position'].unique()"
   ]
  },
  {
   "cell_type": "code",
   "execution_count": 58,
   "metadata": {},
   "outputs": [],
   "source": [
    "df_M=df_players[df_players['position']=='M']\n",
    "df_A=df_players[df_players['position']=='A']\n",
    "df_D=df_players[df_players['position']=='D']"
   ]
  },
  {
   "cell_type": "code",
   "execution_count": 59,
   "metadata": {},
   "outputs": [
    {
     "data": {
      "text/plain": [
       "Text(0.5, 1.0, 'Defence')"
      ]
     },
     "execution_count": 59,
     "metadata": {},
     "output_type": "execute_result"
    },
    {
     "data": {
      "image/png": "[encoded data removed]",
      "text/plain": [
       "<Figure size 2000x1800 with 4 Axes>"
      ]
     },
     "metadata": {},
     "output_type": "display_data"
    }
   ],
   "source": [
    "fig, ax=plt.subplots(2,2,sharey=True, figsize=(20,18))\n",
    "sns.countplot(x='foot', data=df_goalkeeper, ax=ax[0,0])\n",
    "sns.countplot(x='foot', data=df_M, ax=ax[0,1])\n",
    "sns.countplot(x='foot', data=df_A, ax=ax[1,0])\n",
    "sns.countplot(x='foot', data=df_D, ax=ax[1,1])\n",
    "ax[0,0].set_title('Goal keeper')\n",
    "ax[0,1].set_title('Midfield')\n",
    "ax[1,0].set_title('Attacker')\n",
    "ax[1,1].set_title('Defence')"
   ]
  },
  {
   "cell_type": "code",
   "execution_count": 60,
   "metadata": {},
   "outputs": [
    {
     "data": {
      "text/plain": [
       "<seaborn.axisgrid.FacetGrid at 0x1e03a375e10>"
      ]
     },
     "execution_count": 60,
     "metadata": {},
     "output_type": "execute_result"
    },
    {
     "data": {
      "image/png": "[encoded data removed]",
      "text/plain": [
       "<Figure size 2000x500 with 4 Axes>"
      ]
     },
     "metadata": {},
     "output_type": "display_data"
    }
   ],
   "source": [
    "#alternative solution\n",
    "sns.catplot(x='foot', col='position', data=dffifa, kind='count')"
   ]
  },
  {
   "cell_type": "markdown",
   "metadata": {},
   "source": [
    "### Task 10: What can be the relationship/correlation  ratings and defending of other players.<br>\n",
    "*Hint: reg plot*"
   ]
  },
  {
   "cell_type": "code",
   "execution_count": 61,
   "metadata": {},
   "outputs": [
    {
     "data": {
      "image/png": "[encoded data removed]",
      "text/plain": [
       "<Figure size 640x480 with 1 Axes>"
      ]
     },
     "metadata": {},
     "output_type": "display_data"
    }
   ],
   "source": [
    "#Write code here\n",
    "sns.regplot(x = 'rating', y = 'defending', data = df_players, dropna = True, scatter_kws = {'color': 'g', 'alpha': 0.3}, line_kws = {'color': 'r', 'alpha': 0.3})\n",
    "plt.show()"
   ]
  },
  {
   "cell_type": "markdown",
   "metadata": {},
   "source": [
    "**Question: What does the above plot show?**"
   ]
  },
  {
   "cell_type": "markdown",
   "metadata": {},
   "source": [
    "The plot above shows a (+) positive correlation between defending and rating, such that the overall rating of a player may also significantly depend on his skills in defending."
   ]
  },
  {
   "cell_type": "markdown",
   "metadata": {},
   "source": [
    "### Task 11: Plot a graph to show the relationship/correlation among rating and handling of goal keeper. Also the distributions of each should be displayed along with the graph showing the relationship.<br>\n",
    "*Hint: jointplot*"
   ]
  },
  {
   "cell_type": "code",
   "execution_count": 62,
   "metadata": {},
   "outputs": [
    {
     "name": "stderr",
     "output_type": "stream",
     "text": [
      "C:\\Users\\Enviro Global\\anaconda3\\Lib\\site-packages\\seaborn\\_oldcore.py:1119: FutureWarning: use_inf_as_na option is deprecated and will be removed in a future version. Convert inf values to NaN before operating instead.\n",
      "  with pd.option_context('mode.use_inf_as_na', True):\n",
      "C:\\Users\\Enviro Global\\anaconda3\\Lib\\site-packages\\seaborn\\_oldcore.py:1119: FutureWarning: use_inf_as_na option is deprecated and will be removed in a future version. Convert inf values to NaN before operating instead.\n",
      "  with pd.option_context('mode.use_inf_as_na', True):\n"
     ]
    },
    {
     "data": {
      "text/plain": [
       "<seaborn.axisgrid.JointGrid at 0x1e03a414a50>"
      ]
     },
     "execution_count": 62,
     "metadata": {},
     "output_type": "execute_result"
    },
    {
     "data": {
      "image/png": "[encoded data removed]",
      "text/plain": [
       "<Figure size 600x600 with 3 Axes>"
      ]
     },
     "metadata": {},
     "output_type": "display_data"
    }
   ],
   "source": [
    "#Write code here\n",
    "sns.jointplot(df_goalkeeper, x='handling', y='rating')"
   ]
  },
  {
   "cell_type": "markdown",
   "metadata": {},
   "source": [
    "### Task 12-a.  Make a heatmap to show correlation among all the columns of the goal keeper dataframe and answer the questions"
   ]
  },
  {
   "cell_type": "code",
   "execution_count": 63,
   "metadata": {},
   "outputs": [
    {
     "data": {
      "text/plain": [
       "Index(['id', 'name', 'rating', 'position', 'height', 'foot', 'rare', 'diving',\n",
       "       'handling', 'kicking', 'reflexes', 'speed', 'positioning'],\n",
       "      dtype='object')"
      ]
     },
     "execution_count": 63,
     "metadata": {},
     "output_type": "execute_result"
    }
   ],
   "source": [
    "df_goalkeeper.columns"
   ]
  },
  {
   "cell_type": "code",
   "execution_count": 64,
   "metadata": {},
   "outputs": [
    {
     "data": {
      "text/plain": [
       "id              int64\n",
       "name           object\n",
       "rating          int64\n",
       "position       object\n",
       "height          int64\n",
       "foot           object\n",
       "rare            int64\n",
       "diving          int64\n",
       "handling        int64\n",
       "kicking         int64\n",
       "reflexes        int64\n",
       "speed           int64\n",
       "positioning     int64\n",
       "dtype: object"
      ]
     },
     "execution_count": 64,
     "metadata": {},
     "output_type": "execute_result"
    }
   ],
   "source": [
    "df_goalkeeper.dtypes"
   ]
  },
  {
   "cell_type": "code",
   "execution_count": 65,
   "metadata": {},
   "outputs": [
    {
     "data": {
      "text/html": [
       "<div>\n",
       "<style scoped>\n",
       "    .dataframe tbody tr th:only-of-type {\n",
       "        vertical-align: middle;\n",
       "    }\n",
       "\n",
       "    .dataframe tbody tr th {\n",
       "        vertical-align: top;\n",
       "    }\n",
       "\n",
       "    .dataframe thead th {\n",
       "        text-align: right;\n",
       "    }\n",
       "</style>\n",
       "<table border=\"1\" class=\"dataframe\">\n",
       "  <thead>\n",
       "    <tr style=\"text-align: right;\">\n",
       "      <th></th>\n",
       "      <th>rating</th>\n",
       "      <th>height</th>\n",
       "      <th>rare</th>\n",
       "      <th>diving</th>\n",
       "      <th>handling</th>\n",
       "      <th>kicking</th>\n",
       "      <th>reflexes</th>\n",
       "      <th>speed</th>\n",
       "      <th>positioning</th>\n",
       "    </tr>\n",
       "  </thead>\n",
       "  <tbody>\n",
       "    <tr>\n",
       "      <th>rating</th>\n",
       "      <td>1.000000</td>\n",
       "      <td>0.099763</td>\n",
       "      <td>0.231273</td>\n",
       "      <td>0.920651</td>\n",
       "      <td>0.896627</td>\n",
       "      <td>0.702664</td>\n",
       "      <td>0.893557</td>\n",
       "      <td>0.214803</td>\n",
       "      <td>0.900010</td>\n",
       "    </tr>\n",
       "    <tr>\n",
       "      <th>height</th>\n",
       "      <td>0.099763</td>\n",
       "      <td>1.000000</td>\n",
       "      <td>0.046735</td>\n",
       "      <td>0.091859</td>\n",
       "      <td>0.112361</td>\n",
       "      <td>0.086684</td>\n",
       "      <td>0.056339</td>\n",
       "      <td>-0.021480</td>\n",
       "      <td>0.084102</td>\n",
       "    </tr>\n",
       "    <tr>\n",
       "      <th>rare</th>\n",
       "      <td>0.231273</td>\n",
       "      <td>0.046735</td>\n",
       "      <td>1.000000</td>\n",
       "      <td>0.195529</td>\n",
       "      <td>0.230818</td>\n",
       "      <td>0.262367</td>\n",
       "      <td>0.216361</td>\n",
       "      <td>0.004306</td>\n",
       "      <td>0.199900</td>\n",
       "    </tr>\n",
       "    <tr>\n",
       "      <th>diving</th>\n",
       "      <td>0.920651</td>\n",
       "      <td>0.091859</td>\n",
       "      <td>0.195529</td>\n",
       "      <td>1.000000</td>\n",
       "      <td>0.742630</td>\n",
       "      <td>0.619452</td>\n",
       "      <td>0.858516</td>\n",
       "      <td>0.235284</td>\n",
       "      <td>0.740798</td>\n",
       "    </tr>\n",
       "    <tr>\n",
       "      <th>handling</th>\n",
       "      <td>0.896627</td>\n",
       "      <td>0.112361</td>\n",
       "      <td>0.230818</td>\n",
       "      <td>0.742630</td>\n",
       "      <td>1.000000</td>\n",
       "      <td>0.675943</td>\n",
       "      <td>0.697350</td>\n",
       "      <td>0.142400</td>\n",
       "      <td>0.845211</td>\n",
       "    </tr>\n",
       "    <tr>\n",
       "      <th>kicking</th>\n",
       "      <td>0.702664</td>\n",
       "      <td>0.086684</td>\n",
       "      <td>0.262367</td>\n",
       "      <td>0.619452</td>\n",
       "      <td>0.675943</td>\n",
       "      <td>1.000000</td>\n",
       "      <td>0.555723</td>\n",
       "      <td>0.129424</td>\n",
       "      <td>0.637982</td>\n",
       "    </tr>\n",
       "    <tr>\n",
       "      <th>reflexes</th>\n",
       "      <td>0.893557</td>\n",
       "      <td>0.056339</td>\n",
       "      <td>0.216361</td>\n",
       "      <td>0.858516</td>\n",
       "      <td>0.697350</td>\n",
       "      <td>0.555723</td>\n",
       "      <td>1.000000</td>\n",
       "      <td>0.237122</td>\n",
       "      <td>0.701991</td>\n",
       "    </tr>\n",
       "    <tr>\n",
       "      <th>speed</th>\n",
       "      <td>0.214803</td>\n",
       "      <td>-0.021480</td>\n",
       "      <td>0.004306</td>\n",
       "      <td>0.235284</td>\n",
       "      <td>0.142400</td>\n",
       "      <td>0.129424</td>\n",
       "      <td>0.237122</td>\n",
       "      <td>1.000000</td>\n",
       "      <td>0.103384</td>\n",
       "    </tr>\n",
       "    <tr>\n",
       "      <th>positioning</th>\n",
       "      <td>0.900010</td>\n",
       "      <td>0.084102</td>\n",
       "      <td>0.199900</td>\n",
       "      <td>0.740798</td>\n",
       "      <td>0.845211</td>\n",
       "      <td>0.637982</td>\n",
       "      <td>0.701991</td>\n",
       "      <td>0.103384</td>\n",
       "      <td>1.000000</td>\n",
       "    </tr>\n",
       "  </tbody>\n",
       "</table>\n",
       "</div>"
      ],
      "text/plain": [
       "               rating    height      rare    diving  handling   kicking  \\\n",
       "rating       1.000000  0.099763  0.231273  0.920651  0.896627  0.702664   \n",
       "height       0.099763  1.000000  0.046735  0.091859  0.112361  0.086684   \n",
       "rare         0.231273  0.046735  1.000000  0.195529  0.230818  0.262367   \n",
       "diving       0.920651  0.091859  0.195529  1.000000  0.742630  0.619452   \n",
       "handling     0.896627  0.112361  0.230818  0.742630  1.000000  0.675943   \n",
       "kicking      0.702664  0.086684  0.262367  0.619452  0.675943  1.000000   \n",
       "reflexes     0.893557  0.056339  0.216361  0.858516  0.697350  0.555723   \n",
       "speed        0.214803 -0.021480  0.004306  0.235284  0.142400  0.129424   \n",
       "positioning  0.900010  0.084102  0.199900  0.740798  0.845211  0.637982   \n",
       "\n",
       "             reflexes     speed  positioning  \n",
       "rating       0.893557  0.214803     0.900010  \n",
       "height       0.056339 -0.021480     0.084102  \n",
       "rare         0.216361  0.004306     0.199900  \n",
       "diving       0.858516  0.235284     0.740798  \n",
       "handling     0.697350  0.142400     0.845211  \n",
       "kicking      0.555723  0.129424     0.637982  \n",
       "reflexes     1.000000  0.237122     0.701991  \n",
       "speed        0.237122  1.000000     0.103384  \n",
       "positioning  0.701991  0.103384     1.000000  "
      ]
     },
     "execution_count": 65,
     "metadata": {},
     "output_type": "execute_result"
    }
   ],
   "source": [
    "#write code here to find the correlation\n",
    "drop_features = ['id','name','foot']\n",
    "cor = df_goalkeeper.drop(drop_features, axis=1)\n",
    "cor = cor.corr(numeric_only = True)\n",
    "cor"
   ]
  },
  {
   "cell_type": "code",
   "execution_count": 66,
   "metadata": {},
   "outputs": [
    {
     "data": {
      "image/png": "[encoded data removed]",
      "text/plain": [
       "<Figure size 1500x600 with 2 Axes>"
      ]
     },
     "metadata": {},
     "output_type": "display_data"
    }
   ],
   "source": [
    "#write code here for heatmap\n",
    "sns.set_context('poster')\n",
    "plt.figure(figsize=(15,6))\n",
    "cor = df_goalkeeper.drop('id', axis=1)\n",
    "cor = cor.corr(numeric_only = True)\n",
    "sns.heatmap(cor, annot=True, fmt='.1g');"
   ]
  },
  {
   "cell_type": "markdown",
   "metadata": {},
   "source": [
    "**Question: Which columns/variables/factors are important to determine ratings of goal keepers and why?**"
   ]
  },
  {
   "cell_type": "markdown",
   "metadata": {},
   "source": [
    "The heatmap signifies that height, rare and speed are the most important factors to determine the ratings of the goal keepers, because darker colors indicate stronger correlations, while lighter colors indicate weaker correlations."
   ]
  },
  {
   "cell_type": "markdown",
   "metadata": {},
   "source": [
    "### Task 12-b. Make a heatmap show correlation among all the columns of dataframe having data of all the other players and answer the questions"
   ]
  },
  {
   "cell_type": "code",
   "execution_count": 67,
   "metadata": {},
   "outputs": [
    {
     "data": {
      "text/plain": [
       "id            int64\n",
       "name         object\n",
       "rating        int64\n",
       "position     object\n",
       "height        int64\n",
       "foot         object\n",
       "rare          int64\n",
       "pace          int64\n",
       "shooting      int64\n",
       "passing       int64\n",
       "dribbling     int64\n",
       "defending     int64\n",
       "heading       int64\n",
       "dtype: object"
      ]
     },
     "execution_count": 67,
     "metadata": {},
     "output_type": "execute_result"
    }
   ],
   "source": [
    "df_players.dtypes"
   ]
  },
  {
   "cell_type": "code",
   "execution_count": 68,
   "metadata": {},
   "outputs": [
    {
     "data": {
      "text/html": [
       "<div>\n",
       "<style scoped>\n",
       "    .dataframe tbody tr th:only-of-type {\n",
       "        vertical-align: middle;\n",
       "    }\n",
       "\n",
       "    .dataframe tbody tr th {\n",
       "        vertical-align: top;\n",
       "    }\n",
       "\n",
       "    .dataframe thead th {\n",
       "        text-align: right;\n",
       "    }\n",
       "</style>\n",
       "<table border=\"1\" class=\"dataframe\">\n",
       "  <thead>\n",
       "    <tr style=\"text-align: right;\">\n",
       "      <th></th>\n",
       "      <th>rating</th>\n",
       "      <th>height</th>\n",
       "      <th>rare</th>\n",
       "      <th>pace</th>\n",
       "      <th>shooting</th>\n",
       "      <th>passing</th>\n",
       "      <th>dribbling</th>\n",
       "      <th>defending</th>\n",
       "      <th>heading</th>\n",
       "    </tr>\n",
       "  </thead>\n",
       "  <tbody>\n",
       "    <tr>\n",
       "      <th>rating</th>\n",
       "      <td>1.000000</td>\n",
       "      <td>-0.002019</td>\n",
       "      <td>0.251950</td>\n",
       "      <td>0.265640</td>\n",
       "      <td>0.541683</td>\n",
       "      <td>0.633406</td>\n",
       "      <td>0.539971</td>\n",
       "      <td>0.387013</td>\n",
       "      <td>0.439104</td>\n",
       "    </tr>\n",
       "    <tr>\n",
       "      <th>height</th>\n",
       "      <td>-0.002019</td>\n",
       "      <td>1.000000</td>\n",
       "      <td>-0.023979</td>\n",
       "      <td>-0.392051</td>\n",
       "      <td>-0.219175</td>\n",
       "      <td>-0.273012</td>\n",
       "      <td>-0.401063</td>\n",
       "      <td>0.356490</td>\n",
       "      <td>0.367099</td>\n",
       "    </tr>\n",
       "    <tr>\n",
       "      <th>rare</th>\n",
       "      <td>0.251950</td>\n",
       "      <td>-0.023979</td>\n",
       "      <td>1.000000</td>\n",
       "      <td>0.276355</td>\n",
       "      <td>0.244903</td>\n",
       "      <td>0.126480</td>\n",
       "      <td>0.227765</td>\n",
       "      <td>-0.057604</td>\n",
       "      <td>0.051384</td>\n",
       "    </tr>\n",
       "    <tr>\n",
       "      <th>pace</th>\n",
       "      <td>0.265640</td>\n",
       "      <td>-0.392051</td>\n",
       "      <td>0.276355</td>\n",
       "      <td>1.000000</td>\n",
       "      <td>0.360584</td>\n",
       "      <td>0.260352</td>\n",
       "      <td>0.573711</td>\n",
       "      <td>-0.291526</td>\n",
       "      <td>-0.113837</td>\n",
       "    </tr>\n",
       "    <tr>\n",
       "      <th>shooting</th>\n",
       "      <td>0.541683</td>\n",
       "      <td>-0.219175</td>\n",
       "      <td>0.244903</td>\n",
       "      <td>0.360584</td>\n",
       "      <td>1.000000</td>\n",
       "      <td>0.558012</td>\n",
       "      <td>0.783148</td>\n",
       "      <td>-0.239953</td>\n",
       "      <td>0.031571</td>\n",
       "    </tr>\n",
       "    <tr>\n",
       "      <th>passing</th>\n",
       "      <td>0.633406</td>\n",
       "      <td>-0.273012</td>\n",
       "      <td>0.126480</td>\n",
       "      <td>0.260352</td>\n",
       "      <td>0.558012</td>\n",
       "      <td>1.000000</td>\n",
       "      <td>0.656681</td>\n",
       "      <td>0.228389</td>\n",
       "      <td>0.005945</td>\n",
       "    </tr>\n",
       "    <tr>\n",
       "      <th>dribbling</th>\n",
       "      <td>0.539971</td>\n",
       "      <td>-0.401063</td>\n",
       "      <td>0.227765</td>\n",
       "      <td>0.573711</td>\n",
       "      <td>0.783148</td>\n",
       "      <td>0.656681</td>\n",
       "      <td>1.000000</td>\n",
       "      <td>-0.266005</td>\n",
       "      <td>-0.110206</td>\n",
       "    </tr>\n",
       "    <tr>\n",
       "      <th>defending</th>\n",
       "      <td>0.387013</td>\n",
       "      <td>0.356490</td>\n",
       "      <td>-0.057604</td>\n",
       "      <td>-0.291526</td>\n",
       "      <td>-0.239953</td>\n",
       "      <td>0.228389</td>\n",
       "      <td>-0.266005</td>\n",
       "      <td>1.000000</td>\n",
       "      <td>0.543090</td>\n",
       "    </tr>\n",
       "    <tr>\n",
       "      <th>heading</th>\n",
       "      <td>0.439104</td>\n",
       "      <td>0.367099</td>\n",
       "      <td>0.051384</td>\n",
       "      <td>-0.113837</td>\n",
       "      <td>0.031571</td>\n",
       "      <td>0.005945</td>\n",
       "      <td>-0.110206</td>\n",
       "      <td>0.543090</td>\n",
       "      <td>1.000000</td>\n",
       "    </tr>\n",
       "  </tbody>\n",
       "</table>\n",
       "</div>"
      ],
      "text/plain": [
       "             rating    height      rare      pace  shooting   passing  \\\n",
       "rating     1.000000 -0.002019  0.251950  0.265640  0.541683  0.633406   \n",
       "height    -0.002019  1.000000 -0.023979 -0.392051 -0.219175 -0.273012   \n",
       "rare       0.251950 -0.023979  1.000000  0.276355  0.244903  0.126480   \n",
       "pace       0.265640 -0.392051  0.276355  1.000000  0.360584  0.260352   \n",
       "shooting   0.541683 -0.219175  0.244903  0.360584  1.000000  0.558012   \n",
       "passing    0.633406 -0.273012  0.126480  0.260352  0.558012  1.000000   \n",
       "dribbling  0.539971 -0.401063  0.227765  0.573711  0.783148  0.656681   \n",
       "defending  0.387013  0.356490 -0.057604 -0.291526 -0.239953  0.228389   \n",
       "heading    0.439104  0.367099  0.051384 -0.113837  0.031571  0.005945   \n",
       "\n",
       "           dribbling  defending   heading  \n",
       "rating      0.539971   0.387013  0.439104  \n",
       "height     -0.401063   0.356490  0.367099  \n",
       "rare        0.227765  -0.057604  0.051384  \n",
       "pace        0.573711  -0.291526 -0.113837  \n",
       "shooting    0.783148  -0.239953  0.031571  \n",
       "passing     0.656681   0.228389  0.005945  \n",
       "dribbling   1.000000  -0.266005 -0.110206  \n",
       "defending  -0.266005   1.000000  0.543090  \n",
       "heading    -0.110206   0.543090  1.000000  "
      ]
     },
     "execution_count": 68,
     "metadata": {},
     "output_type": "execute_result"
    }
   ],
   "source": [
    "# Write the code to find the correlation here\n",
    "drop_features1 = ['id','name', 'position', 'foot']\n",
    "cor1 = df_players.drop(drop_features1, axis=1)\n",
    "cor1 = cor1.corr(numeric_only = True)\n",
    "cor1"
   ]
  },
  {
   "cell_type": "code",
   "execution_count": 69,
   "metadata": {},
   "outputs": [
    {
     "data": {
      "image/png": "[encoded data removed]",
      "text/plain": [
       "<Figure size 1500x600 with 2 Axes>"
      ]
     },
     "metadata": {},
     "output_type": "display_data"
    }
   ],
   "source": [
    "#write code here for heatmap\n",
    "sns.set_context('poster')\n",
    "plt.figure(figsize=(15,6))\n",
    "cor1 = df_players.drop('id', axis=1)\n",
    "cor1 = cor1.corr(numeric_only = True)\n",
    "sns.heatmap(cor1, annot=True, fmt='.1g');"
   ]
  },
  {
   "cell_type": "markdown",
   "metadata": {},
   "source": [
    "**Question: Which columns/variables/factors are important to dertmine ratings of other players and why?**"
   ]
  },
  {
   "cell_type": "markdown",
   "metadata": {},
   "source": [
    "Rare, Pace, shooting, passing and dribling are the important factors to determine the ratings of other players, which is showing a positive correlation on the heatmap through the dark colors."
   ]
  },
  {
   "cell_type": "markdown",
   "metadata": {},
   "source": [
    "### Task 13. Show distribution of rating.\n",
    "*Hint: Use dist plot*"
   ]
  },
  {
   "cell_type": "code",
   "execution_count": 70,
   "metadata": {
    "scrolled": true
   },
   "outputs": [
    {
     "name": "stderr",
     "output_type": "stream",
     "text": [
      "C:\\Users\\Enviro Global\\anaconda3\\Lib\\site-packages\\seaborn\\_oldcore.py:1119: FutureWarning: use_inf_as_na option is deprecated and will be removed in a future version. Convert inf values to NaN before operating instead.\n",
      "  with pd.option_context('mode.use_inf_as_na', True):\n"
     ]
    },
    {
     "data": {
      "text/plain": [
       "<seaborn.axisgrid.FacetGrid at 0x1e03c42cfd0>"
      ]
     },
     "execution_count": 70,
     "metadata": {},
     "output_type": "execute_result"
    },
    {
     "data": {
      "image/png": "[encoded data removed]",
      "text/plain": [
       "<Figure size 500x500 with 1 Axes>"
      ]
     },
     "metadata": {},
     "output_type": "display_data"
    }
   ],
   "source": [
    "#write code here\n",
    "sns.displot(dffifa['rating'])"
   ]
  },
  {
   "cell_type": "markdown",
   "metadata": {},
   "source": [
    "**Question: What insights do you get from the distplot drawn above?**"
   ]
  },
  {
   "cell_type": "markdown",
   "metadata": {},
   "source": [
    "Insights on the distribution of rating:\n",
    "* Majority of the players (<>500) got a rating of at least 65\n",
    "* 60 and 70 ratings has almost equal number of players (<>400)\n",
    "* <> 200 got ratings of lower than 60, and higher than 70\n",
    "* only a few has the lowest and highest ratings"
   ]
  },
  {
   "cell_type": "markdown",
   "metadata": {},
   "source": [
    "### Task 14: Show the distribution of ratings of each types of players through KDE plot using distplot() function"
   ]
  },
  {
   "cell_type": "code",
   "execution_count": 71,
   "metadata": {},
   "outputs": [
    {
     "data": {
      "text/plain": [
       "id            int64\n",
       "name         object\n",
       "rating        int64\n",
       "position     object\n",
       "height        int64\n",
       "foot         object\n",
       "rare          int64\n",
       "pace          int64\n",
       "shooting      int64\n",
       "passing       int64\n",
       "dribbling     int64\n",
       "defending     int64\n",
       "heading       int64\n",
       "dtype: object"
      ]
     },
     "execution_count": 71,
     "metadata": {},
     "output_type": "execute_result"
    }
   ],
   "source": [
    "df_players.dtypes"
   ]
  },
  {
   "cell_type": "code",
   "execution_count": 72,
   "metadata": {},
   "outputs": [
    {
     "name": "stderr",
     "output_type": "stream",
     "text": [
      "C:\\Users\\Enviro Global\\anaconda3\\Lib\\site-packages\\seaborn\\_oldcore.py:1119: FutureWarning: use_inf_as_na option is deprecated and will be removed in a future version. Convert inf values to NaN before operating instead.\n",
      "  with pd.option_context('mode.use_inf_as_na', True):\n"
     ]
    },
    {
     "data": {
      "text/plain": [
       "<Axes: xlabel='rating', ylabel='Density'>"
      ]
     },
     "execution_count": 72,
     "metadata": {},
     "output_type": "execute_result"
    },
    {
     "data": {
      "image/png": "[encoded data removed]",
      "text/plain": [
       "<Figure size 640x480 with 1 Axes>"
      ]
     },
     "metadata": {},
     "output_type": "display_data"
    }
   ],
   "source": [
    "#Write code here\n",
    "sns.kdeplot(df_players, x='rating', hue='position')"
   ]
  },
  {
   "cell_type": "code",
   "execution_count": 73,
   "metadata": {},
   "outputs": [
    {
     "name": "stderr",
     "output_type": "stream",
     "text": [
      "C:\\Users\\Enviro Global\\anaconda3\\Lib\\site-packages\\seaborn\\_oldcore.py:1119: FutureWarning: use_inf_as_na option is deprecated and will be removed in a future version. Convert inf values to NaN before operating instead.\n",
      "  with pd.option_context('mode.use_inf_as_na', True):\n"
     ]
    },
    {
     "data": {
      "text/plain": [
       "<seaborn.axisgrid.FacetGrid at 0x1e03ae93550>"
      ]
     },
     "execution_count": 73,
     "metadata": {},
     "output_type": "execute_result"
    },
    {
     "data": {
      "image/png": "[encoded data removed]",
      "text/plain": [
       "<Figure size 500x500 with 1 Axes>"
      ]
     },
     "metadata": {},
     "output_type": "display_data"
    }
   ],
   "source": [
    "sns.displot(df_players['rating'], kde=True)"
   ]
  },
  {
   "cell_type": "code",
   "execution_count": 74,
   "metadata": {},
   "outputs": [
    {
     "name": "stderr",
     "output_type": "stream",
     "text": [
      "C:\\Users\\Enviro Global\\anaconda3\\Lib\\site-packages\\seaborn\\_oldcore.py:1119: FutureWarning: use_inf_as_na option is deprecated and will be removed in a future version. Convert inf values to NaN before operating instead.\n",
      "  with pd.option_context('mode.use_inf_as_na', True):\n"
     ]
    },
    {
     "data": {
      "text/plain": [
       "<seaborn.axisgrid.FacetGrid at 0x1e03be8bcd0>"
      ]
     },
     "execution_count": 74,
     "metadata": {},
     "output_type": "execute_result"
    },
    {
     "data": {
      "image/png": "[encoded data removed]",
      "text/plain": [
       "<Figure size 500x500 with 1 Axes>"
      ]
     },
     "metadata": {},
     "output_type": "display_data"
    }
   ],
   "source": [
    "sns.displot(df_players['position'], kde=True)"
   ]
  },
  {
   "cell_type": "markdown",
   "metadata": {},
   "source": [
    "### Task 15: What is the count of rare players in each type of postion?"
   ]
  },
  {
   "cell_type": "code",
   "execution_count": 75,
   "metadata": {},
   "outputs": [
    {
     "data": {
      "text/html": [
       "<div>\n",
       "<style scoped>\n",
       "    .dataframe tbody tr th:only-of-type {\n",
       "        vertical-align: middle;\n",
       "    }\n",
       "\n",
       "    .dataframe tbody tr th {\n",
       "        vertical-align: top;\n",
       "    }\n",
       "\n",
       "    .dataframe thead th {\n",
       "        text-align: right;\n",
       "    }\n",
       "</style>\n",
       "<table border=\"1\" class=\"dataframe\">\n",
       "  <thead>\n",
       "    <tr style=\"text-align: right;\">\n",
       "      <th></th>\n",
       "      <th>position</th>\n",
       "      <th>rare</th>\n",
       "      <th>no_players</th>\n",
       "    </tr>\n",
       "  </thead>\n",
       "  <tbody>\n",
       "    <tr>\n",
       "      <th>0</th>\n",
       "      <td>A</td>\n",
       "      <td>0</td>\n",
       "      <td>1093</td>\n",
       "    </tr>\n",
       "    <tr>\n",
       "      <th>1</th>\n",
       "      <td>A</td>\n",
       "      <td>1</td>\n",
       "      <td>989</td>\n",
       "    </tr>\n",
       "    <tr>\n",
       "      <th>2</th>\n",
       "      <td>D</td>\n",
       "      <td>0</td>\n",
       "      <td>2037</td>\n",
       "    </tr>\n",
       "    <tr>\n",
       "      <th>3</th>\n",
       "      <td>D</td>\n",
       "      <td>1</td>\n",
       "      <td>757</td>\n",
       "    </tr>\n",
       "    <tr>\n",
       "      <th>4</th>\n",
       "      <td>GK</td>\n",
       "      <td>0</td>\n",
       "      <td>609</td>\n",
       "    </tr>\n",
       "    <tr>\n",
       "      <th>5</th>\n",
       "      <td>GK</td>\n",
       "      <td>1</td>\n",
       "      <td>321</td>\n",
       "    </tr>\n",
       "    <tr>\n",
       "      <th>6</th>\n",
       "      <td>M</td>\n",
       "      <td>0</td>\n",
       "      <td>1984</td>\n",
       "    </tr>\n",
       "    <tr>\n",
       "      <th>7</th>\n",
       "      <td>M</td>\n",
       "      <td>1</td>\n",
       "      <td>1057</td>\n",
       "    </tr>\n",
       "  </tbody>\n",
       "</table>\n",
       "</div>"
      ],
      "text/plain": [
       "  position  rare  no_players\n",
       "0        A     0        1093\n",
       "1        A     1         989\n",
       "2        D     0        2037\n",
       "3        D     1         757\n",
       "4       GK     0         609\n",
       "5       GK     1         321\n",
       "6        M     0        1984\n",
       "7        M     1        1057"
      ]
     },
     "execution_count": 75,
     "metadata": {},
     "output_type": "execute_result"
    }
   ],
   "source": [
    "#write code here\n",
    "dffifa.groupby(['position', 'rare'])['rare'].count().reset_index(name='no_players')"
   ]
  },
  {
   "cell_type": "markdown",
   "metadata": {},
   "source": [
    "End of Assignment no2\n",
    "Submitted by: Rizzalea Cano\n",
    "Submitted to: Mr Hamza"
   ]
  },
  {
   "cell_type": "code",
   "execution_count": null,
   "metadata": {},
   "outputs": [],
   "source": []
  }
 ],
 "metadata": {
  "kernelspec": {
   "display_name": "Python 3 (ipykernel)",
   "language": "python",
   "name": "python3"
  },
  "language_info": {
   "codemirror_mode": {
    "name": "ipython",
    "version": 3
   },
   "file_extension": ".py",
   "mimetype": "text/x-python",
   "name": "python",
   "nbconvert_exporter": "python",
   "pygments_lexer": "ipython3",
   "version": "3.11.7"
  }
 },
 "nbformat": 4,
 "nbformat_minor": 4
}
